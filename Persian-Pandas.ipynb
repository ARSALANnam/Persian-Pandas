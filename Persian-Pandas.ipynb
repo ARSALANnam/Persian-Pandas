{
 "cells": [
  {
   "cell_type": "markdown",
   "id": "5dc1666a-a115-4376-a8c6-f4cee507da0a",
   "metadata": {},
   "source": [
    "# Pandas\n",
    "##### My Github:ARSALANnam\n",
    "##### My Email: arsalannam9710@gmail.com\n",
    "##### My Linkedin:www.linkedin.com/in/arsalannam"
   ]
  },
  {
   "cell_type": "markdown",
   "id": "97aed4f4-35ce-4b82-b536-6bf9a146d2ca",
   "metadata": {},
   "source": [
    "<div style=\"direction: rtl; text-align: right; font-size: 30px\">\n",
    "    Pandas چیست ؟\n",
    "</div>"
   ]
  },
  {
   "cell_type": "markdown",
   "id": "d5180f99-87db-4bef-9469-51f910d7b4c9",
   "metadata": {},
   "source": [
    "<div style=\"direction: rtl; text-align: right; font-size: 20px\">\n",
    "    کتابخانه‌ی pandas یکی از مهم‌ترین ابزارها برای تحلیل داده‌ها در پایتونه. اسمش از واژه‌ی \"panel data\" گرفته شده که در اقتصاد به مجموعه داده‌های چندبعدی اشاره داره.\n",
    "\n",
    "\n",
    "</div>"
   ]
  },
  {
   "cell_type": "markdown",
   "id": "8bce8192-9c82-400e-bd77-0fac347830f1",
   "metadata": {},
   "source": [
    "<div style=\"direction: rtl; text-align: right; font-size: 30px; color:green\">\n",
    " ویژگی‌های مهم pandas\n",
    "</div>"
   ]
  },
  {
   "cell_type": "markdown",
   "id": "bedb64f6-c656-4bc1-8aa1-7caa7c73fd07",
   "metadata": {},
   "source": [
    "<div style=\"direction: rtl; text-align: right; font-size: 25px\">\n",
    "⦿ ساختارهای داده‌ی پیشرفته\n",
    "</div>"
   ]
  },
  {
   "cell_type": "markdown",
   "id": "f2fa080f-0f2e-4d74-8c07-6b1fbd7b1584",
   "metadata": {},
   "source": [
    "<div style=\"direction: rtl; text-align: right; font-size: 20px\">\n",
    "◂ Series = آرایه‌ی یک‌بعدی با ایندکس\n",
    "<br>\n",
    "◂ DataFrame = جدول دوبعدی مثل اکسل (ردیف و ستون)\n",
    "</div>"
   ]
  },
  {
   "cell_type": "markdown",
   "id": "aedcf2de-645a-48bc-ab64-cfa7990267bf",
   "metadata": {},
   "source": [
    "<div style=\"direction: rtl; text-align: right; font-size: 25px\">\n",
    "⦿ خواندن و نوشتن داده‌ها\n",
    "</div>"
   ]
  },
  {
   "cell_type": "markdown",
   "id": "81b6964f-23f3-4946-870d-9402264e76e1",
   "metadata": {},
   "source": [
    "<div style=\"direction: rtl; text-align: right; font-size: 20px\">\n",
    "◂ قابلیت خوندن و نوشتن از/به فرمت‌های مختلف مثل:\n",
    "<br>\n",
    "● CSV\n",
    "<br>\n",
    "● Excel\n",
    "<br>\n",
    "● SQL\n",
    "<br>\n",
    "● JSON\n",
    "</div>"
   ]
  },
  {
   "cell_type": "markdown",
   "id": "354f8531-2df0-4d97-99ff-86a402d42051",
   "metadata": {},
   "source": [
    "<div style=\"direction: rtl; text-align: right; font-size: 25px\">\n",
    "⦿ فیلتر، مرتب‌سازی، و گروه‌بندی\n",
    "</div>"
   ]
  },
  {
   "cell_type": "markdown",
   "id": "29209a38-5a90-4a6d-aa71-4de57c47f652",
   "metadata": {},
   "source": [
    "<div style=\"direction: rtl; text-align: right; font-size: 20px\">\n",
    "◂ به راحتی می‌تونی داده‌ها رو فیلتر کنی، مرتب کنی، یا بر اساس یک ستون گروه‌بندی کنی \n",
    "</div>"
   ]
  },
  {
   "cell_type": "markdown",
   "id": "985ce7f9-bdef-48fa-b8a8-2af2aa40f244",
   "metadata": {},
   "source": [
    "<div style=\"direction: rtl; text-align: right; font-size: 25px\">\n",
    "⦿  محاسبات آماری سریع\n",
    "</div>"
   ]
  },
  {
   "cell_type": "markdown",
   "id": "e19aab31-4706-4c8c-bbd8-a729512e1078",
   "metadata": {},
   "source": [
    "<div style=\"direction: rtl; text-align: right; font-size: 20px\">\n",
    "◂ تابع‌های آماده برای محاسبات:\n",
    "    <br>\n",
    "● mean() میانگین\n",
    "    <br>\n",
    "● sum() مجموع\n",
    "    <br>\n",
    "● count() تعداد\n",
    "    <br>\n",
    "● std() انحراف معیار و ...\n",
    "</div>"
   ]
  },
  {
   "cell_type": "markdown",
   "id": "c230d1c3-912c-412c-b5ff-6fa4f3ddf7d9",
   "metadata": {},
   "source": [
    "<div style=\"direction: rtl; text-align: right; font-size: 25px\">\n",
    "⦿ ادغام و ترکیب داده‌ها\n",
    "</div>"
   ]
  },
  {
   "cell_type": "markdown",
   "id": "01f84302-c22f-4984-9567-95dcf5545e8a",
   "metadata": {},
   "source": [
    "<div style=\"direction: rtl; text-align: right; font-size: 20px\">\n",
    "◂ اتصال چند جدول با merge() و concat()\n",
    "    <br>\n",
    "◂ پر کردن داده‌های گمشده با fillna()\n",
    "</div>"
   ]
  },
  {
   "cell_type": "markdown",
   "id": "27f12bc6-bb9f-4ef8-86b8-a7d449ce37dc",
   "metadata": {},
   "source": [
    "<div style=\"direction: rtl; text-align: right; font-size: 25px\">\n",
    "⦿ پشتیبانی از داده‌های زمانی\n",
    "</div>"
   ]
  },
  {
   "cell_type": "markdown",
   "id": "52a1b069-5f5e-401e-b0c5-d1895397325c",
   "metadata": {},
   "source": [
    "<div style=\"direction: rtl; text-align: right; font-size: 20px\">\n",
    "◂ مناسب برای تحلیل‌های سری‌زمانی (تاریخ و زمان)\n",
    "</div>"
   ]
  },
  {
   "cell_type": "markdown",
   "id": "931edbe3-9979-4667-a978-0b9881ac7b44",
   "metadata": {},
   "source": [
    "<div style=\"direction: rtl; text-align: right; font-size: 30px\">\n",
    "❞ کاربردها:\n",
    "</div>"
   ]
  },
  {
   "cell_type": "markdown",
   "id": "a054b3df-dd9a-4ece-b139-ecd9de172dec",
   "metadata": {},
   "source": [
    "<div style=\"direction: rtl; text-align: right; font-size: 20px\">\n",
    "⦁ علم داده (Data Science)\n",
    "    <br>\n",
    "⦁ یادگیری ماشین\n",
    "    <br>\n",
    "⦁ تحلیل آماری\n",
    "    <br>\n",
    "⦁ گزارش‌گیری و داشبوردها\n",
    "</div>"
   ]
  },
  {
   "cell_type": "markdown",
   "id": "01929512-46ca-41e5-ac32-5b5de95b8a0f",
   "metadata": {},
   "source": [
    "<div style=\"direction: rtl; text-align: right; font-size: 30px\">\n",
    " نصب Pandas\n",
    "</div>"
   ]
  },
  {
   "cell_type": "markdown",
   "id": "ac1be934-ac1c-4f45-93bd-a0cee76c80e3",
   "metadata": {},
   "source": [
    "<div style=\"direction: rtl; text-align: right; font-size: 20px\">\n",
    "    اگر پایتون روی سیستمته و pip هم فعاله، با این دستور می‌تونی نصبش کنی:\n",
    "</div>"
   ]
  },
  {
   "cell_type": "code",
   "execution_count": 440,
   "id": "f08e62ca-1644-4349-9159-3c9a52ebc262",
   "metadata": {},
   "outputs": [
    {
     "name": "stdout",
     "output_type": "stream",
     "text": [
      "Requirement already satisfied: pandas in /home/arsalan/.local/share/pipx/venvs/notebook/lib/python3.13/site-packages (2.2.3)\n",
      "Requirement already satisfied: numpy>=1.26.0 in /home/arsalan/.local/share/pipx/venvs/notebook/lib/python3.13/site-packages (from pandas) (2.2.5)\n",
      "Requirement already satisfied: python-dateutil>=2.8.2 in /home/arsalan/.local/share/pipx/venvs/notebook/lib/python3.13/site-packages (from pandas) (2.9.0.post0)\n",
      "Requirement already satisfied: pytz>=2020.1 in /home/arsalan/.local/share/pipx/venvs/notebook/lib/python3.13/site-packages (from pandas) (2025.2)\n",
      "Requirement already satisfied: tzdata>=2022.7 in /home/arsalan/.local/share/pipx/venvs/notebook/lib/python3.13/site-packages (from pandas) (2025.2)\n",
      "Requirement already satisfied: six>=1.5 in /home/arsalan/.local/share/pipx/venvs/notebook/lib/python3.13/site-packages (from python-dateutil>=2.8.2->pandas) (1.17.0)\n",
      "\n",
      "\u001b[1m[\u001b[0m\u001b[34;49mnotice\u001b[0m\u001b[1;39;49m]\u001b[0m\u001b[39;49m A new release of pip is available: \u001b[0m\u001b[31;49m25.0.1\u001b[0m\u001b[39;49m -> \u001b[0m\u001b[32;49m25.1.1\u001b[0m\n",
      "\u001b[1m[\u001b[0m\u001b[34;49mnotice\u001b[0m\u001b[1;39;49m]\u001b[0m\u001b[39;49m To update, run: \u001b[0m\u001b[32;49m/home/arsalan/.local/share/pipx/venvs/notebook/bin/python -m pip install --upgrade pip\u001b[0m\n",
      "Note: you may need to restart the kernel to use updated packages.\n"
     ]
    }
   ],
   "source": [
    "pip install pandas"
   ]
  },
  {
   "cell_type": "markdown",
   "id": "9608e843-eb04-4571-8a94-f5ae301fe32b",
   "metadata": {},
   "source": [
    "<div style=\"direction: rtl; text-align: right; font-size: 20px\">\n",
    "    اگر از نسخه خاصی از پایتون استفاده می‌کنی (مثلاً پایتون ۳):\n",
    "</div>"
   ]
  },
  {
   "cell_type": "raw",
   "id": "45b58ecb-0c3c-4097-b3b8-2516ae6088e6",
   "metadata": {},
   "source": [
    "pip3 install pandas"
   ]
  },
  {
   "cell_type": "markdown",
   "id": "103d71d2-a87f-4d79-b6e3-8b880b18343f",
   "metadata": {},
   "source": [
    "<div style=\"direction: rtl; text-align: right; font-size: 20px\">\n",
    "     چک کردن نصب\n",
    "</div>"
   ]
  },
  {
   "cell_type": "code",
   "execution_count": 441,
   "id": "54f2b2e6-e78c-4d33-b131-53eec62e45db",
   "metadata": {},
   "outputs": [
    {
     "name": "stdout",
     "output_type": "stream",
     "text": [
      "2.2.3\n"
     ]
    }
   ],
   "source": [
    "import pandas as pd\n",
    "print(pd.__version__)"
   ]
  },
  {
   "cell_type": "markdown",
   "id": "5cfa4a9e-9cdf-4391-8e5d-5c5402ae78d3",
   "metadata": {},
   "source": [
    "<div style=\"direction: rtl; text-align: right; font-size: 15px\">\n",
    "    اگه نسخه‌ای چاپ شد (مثلاً 2.2.1)، یعنی نصب موفق بوده.\n",
    "</div>"
   ]
  },
  {
   "cell_type": "markdown",
   "id": "b4ac5aab-d511-4493-832a-f6c62c047fa9",
   "metadata": {},
   "source": [
    "<div style=\"direction: rtl; text-align: right; font-size: 30px\">\n",
    "    چگونه Pandas را وارد کنیم ؟\n",
    "</div>"
   ]
  },
  {
   "cell_type": "code",
   "execution_count": 442,
   "id": "6f00d42e-4c3f-4374-9d46-3ac06f3eeb29",
   "metadata": {},
   "outputs": [],
   "source": [
    "import pandas as pd"
   ]
  },
  {
   "cell_type": "markdown",
   "id": "775ae333-e175-4195-bc64-639cb9e6dc0c",
   "metadata": {},
   "source": [
    "<div style=\"direction: rtl; text-align: right; font-size: 30px\">\n",
    "     ساختارهای اصلی داده:\n",
    "</div>"
   ]
  },
  {
   "cell_type": "markdown",
   "id": "79dde4b5-5c21-4933-aaa3-1917d24b9787",
   "metadata": {},
   "source": [
    "<div style=\"direction: rtl; text-align: right; font-size: 25px; color:green\">\n",
    "•     Series\n",
    "    <br>\n",
    "⬩    آرایه‌ای یک‌بعدی با ایندکس\n",
    "</div>"
   ]
  },
  {
   "cell_type": "code",
   "execution_count": 443,
   "id": "d582b78f-69ca-4dd6-acb5-a34341dfabd1",
   "metadata": {},
   "outputs": [],
   "source": [
    "s = pd.Series([10, 20, 30])"
   ]
  },
  {
   "cell_type": "code",
   "execution_count": 444,
   "id": "fe28866a-63bc-4aaa-8b2f-ba5eba3ae52d",
   "metadata": {},
   "outputs": [
    {
     "name": "stdout",
     "output_type": "stream",
     "text": [
      "0    10\n",
      "1    20\n",
      "2    30\n",
      "dtype: int64\n"
     ]
    }
   ],
   "source": [
    "print(s)"
   ]
  },
  {
   "cell_type": "markdown",
   "id": "73a3f258-ab17-4ef2-a644-8e846e728395",
   "metadata": {},
   "source": [
    "<div style=\"direction: rtl; text-align: right; font-size: 20px\">\n",
    "· Series یک آرایه یک‌بعدی است که داده‌ها را نگه می‌دارد.\n",
    "    <br>\n",
    "· هر عنصر در Series یک برچسب (label) یا ایندکس دارد، یعنی برخلاف لیست ساده در پایتون، هر خانه یک نام دارد.\n",
    "    <br>\n",
    "· می‌تواند شامل انواع مختلف داده‌ها باشد: اعداد، رشته، یا حتی اشیاء پایتون.\n",
    "\n",
    "</div>"
   ]
  },
  {
   "cell_type": "markdown",
   "id": "3b86e2fd-df2c-4fa5-867b-b68272ca48ca",
   "metadata": {},
   "source": [
    "<div style=\"direction: rtl; text-align: right; font-size: 20px\">\n",
    "    ساخت Series با تعیین ایندکس\n",
    "</div>"
   ]
  },
  {
   "cell_type": "code",
   "execution_count": 445,
   "id": "7745b307-9d74-4a6e-8447-d01f4bb04781",
   "metadata": {},
   "outputs": [
    {
     "name": "stdout",
     "output_type": "stream",
     "text": [
      "a    1\n",
      "b    3\n",
      "c    5\n",
      "d    7\n",
      "e    9\n",
      "dtype: int64\n"
     ]
    }
   ],
   "source": [
    "s = pd.Series([1, 3, 5, 7, 9], index=['a', 'b', 'c', 'd', 'e'])\n",
    "print(s)"
   ]
  },
  {
   "cell_type": "markdown",
   "id": "7b0fa557-746f-43e2-8ed2-ac3114b7845f",
   "metadata": {},
   "source": [
    "<div style=\"direction: rtl; text-align: right; font-size: 20px\">\n",
    "    دسترسی به مقادیر Series\n",
    "</div>"
   ]
  },
  {
   "cell_type": "code",
   "execution_count": 446,
   "id": "d1c3a083-a300-4bd8-8f76-c71c27c9b9eb",
   "metadata": {},
   "outputs": [
    {
     "name": "stdout",
     "output_type": "stream",
     "text": [
      "5\n"
     ]
    }
   ],
   "source": [
    "print(s['c'])"
   ]
  },
  {
   "cell_type": "markdown",
   "id": "22e5528d-898e-451d-be92-c1e7f54df24e",
   "metadata": {},
   "source": [
    "<div style=\"direction: rtl; text-align: right; font-size: 20px\">\n",
    "    Series با داده‌های مختلف و داده‌های نامعلوم\n",
    "</div>"
   ]
  },
  {
   "cell_type": "code",
   "execution_count": 447,
   "id": "c5614529-184c-4808-99f9-334674228037",
   "metadata": {},
   "outputs": [
    {
     "name": "stdout",
     "output_type": "stream",
     "text": [
      "0    1.0\n",
      "1    2.0\n",
      "2    NaN\n",
      "3    4.0\n",
      "dtype: float64\n"
     ]
    }
   ],
   "source": [
    "s = pd.Series([1, 2, None, 4])\n",
    "print(s)"
   ]
  },
  {
   "cell_type": "markdown",
   "id": "68614ed6-3ffb-4b9f-adf5-8be407b95f34",
   "metadata": {},
   "source": [
    "<div style=\"direction: rtl; text-align: right; font-size: 30px\">\n",
    "</div>"
   ]
  },
  {
   "cell_type": "markdown",
   "id": "71e56a53-b8f0-4c9c-ab08-a4707ec73ba7",
   "metadata": {},
   "source": [
    "<div style=\"direction: rtl; text-align: right; font-size: 25px; color:green\">\n",
    "• DataFrame\n",
    "    <br>\n",
    "⬩ جدول دوبعدی (مثل اکسل) با ردیف و ستون\n",
    "</div>"
   ]
  },
  {
   "cell_type": "code",
   "execution_count": 448,
   "id": "b48e4f17-e52a-4747-a4b9-b24e7faf2f28",
   "metadata": {},
   "outputs": [],
   "source": [
    "data = {'name': ['Arsalan', 'Natalie'], 'age': [19, 22]}\n",
    "df = pd.DataFrame(data)"
   ]
  },
  {
   "cell_type": "code",
   "execution_count": 449,
   "id": "5812e3a6-1e9f-49fa-86b5-6edc72e97c94",
   "metadata": {},
   "outputs": [
    {
     "name": "stdout",
     "output_type": "stream",
     "text": [
      "      name  age\n",
      "0  Arsalan   19\n",
      "1  Natalie   22\n"
     ]
    }
   ],
   "source": [
    "print(df)"
   ]
  },
  {
   "cell_type": "markdown",
   "id": "2350a370-6ec2-42cc-8998-2fef9e125e77",
   "metadata": {},
   "source": [
    "<div style=\"direction: rtl; text-align: right; font-size: 20px\">\n",
    " •   Series در Pandas یعنی یک آرایه یک‌بعدی داده‌ها که ایندکس هم دارد.\n",
    "    <br>\n",
    " •   هر ستون در DataFrame دقیقا یک Series مستقل است.\n",
    "    <br>\n",
    "</div>"
   ]
  },
  {
   "cell_type": "markdown",
   "id": "c0042d55-476c-46ba-ab71-2a1e25f211a3",
   "metadata": {},
   "source": [
    "<div style=\"direction: rtl; text-align: right; font-size: 30px; color:red\">\n",
    "    نکات مهم :\n",
    "</div>"
   ]
  },
  {
   "cell_type": "markdown",
   "id": "525b9427-802e-485c-b7a6-f707b6e3f2c2",
   "metadata": {},
   "source": [
    "<div style=\"direction: rtl; text-align: right; font-size: 20px\">\n",
    "    • چون هر ستون Series است، می‌توانیم روی هر ستون به صورت مستقل عملیات انجام دهیم (مثل اعمال توابع، فیلتر کردن، محاسبات ریاضی و ...).\n",
    "    <br>\n",
    "    • هر Series نام (name) خود را دارد که همان نام ستون است.\n",
    "    <br>\n",
    "    • ایندکس Series همان ایندکس DataFrame است.\n",
    "</div>"
   ]
  },
  {
   "cell_type": "markdown",
   "id": "0a4e5c6f-11db-423e-b2e9-302487e39c87",
   "metadata": {},
   "source": [
    "<div style=\"direction: rtl; text-align: right; font-size: 30px\">\n",
    "    بررسی‌های پایه‌ای روی DataFrame\n",
    "</div>"
   ]
  },
  {
   "cell_type": "markdown",
   "id": "6d3dbb49-45a1-4dee-b13b-36247cbae297",
   "metadata": {},
   "source": [
    "<div style=\"direction: rtl; text-align: right; font-size: 20px\">\n",
    "    نمایش کل جدول:\n",
    "</div>"
   ]
  },
  {
   "cell_type": "code",
   "execution_count": 450,
   "id": "dff005c0-203c-4124-a64c-1ed85587af28",
   "metadata": {},
   "outputs": [
    {
     "name": "stdout",
     "output_type": "stream",
     "text": [
      "      name  age\n",
      "0  Arsalan   19\n",
      "1  Natalie   22\n"
     ]
    }
   ],
   "source": [
    "print(df)"
   ]
  },
  {
   "cell_type": "markdown",
   "id": "dcf51e2a-97b8-4a40-9be4-ad718202deb8",
   "metadata": {},
   "source": [
    "<div style=\"direction: rtl; text-align: right; font-size: 20px\">\n",
    "    نمایش اولین ردیف‌ها:\n",
    "</div>"
   ]
  },
  {
   "cell_type": "code",
   "execution_count": 451,
   "id": "f53a1600-4fbc-4fbe-bae0-ea598fcbbe0b",
   "metadata": {},
   "outputs": [
    {
     "data": {
      "text/html": [
       "<div>\n",
       "<style scoped>\n",
       "    .dataframe tbody tr th:only-of-type {\n",
       "        vertical-align: middle;\n",
       "    }\n",
       "\n",
       "    .dataframe tbody tr th {\n",
       "        vertical-align: top;\n",
       "    }\n",
       "\n",
       "    .dataframe thead th {\n",
       "        text-align: right;\n",
       "    }\n",
       "</style>\n",
       "<table border=\"1\" class=\"dataframe\">\n",
       "  <thead>\n",
       "    <tr style=\"text-align: right;\">\n",
       "      <th></th>\n",
       "      <th>name</th>\n",
       "      <th>age</th>\n",
       "    </tr>\n",
       "  </thead>\n",
       "  <tbody>\n",
       "    <tr>\n",
       "      <th>0</th>\n",
       "      <td>Arsalan</td>\n",
       "      <td>19</td>\n",
       "    </tr>\n",
       "    <tr>\n",
       "      <th>1</th>\n",
       "      <td>Natalie</td>\n",
       "      <td>22</td>\n",
       "    </tr>\n",
       "  </tbody>\n",
       "</table>\n",
       "</div>"
      ],
      "text/plain": [
       "      name  age\n",
       "0  Arsalan   19\n",
       "1  Natalie   22"
      ]
     },
     "execution_count": 451,
     "metadata": {},
     "output_type": "execute_result"
    }
   ],
   "source": [
    "df.head()"
   ]
  },
  {
   "cell_type": "markdown",
   "id": "5c390833-0f32-4b97-b0e2-25cff14b96ec",
   "metadata": {},
   "source": [
    "<div style=\"direction: rtl; text-align: right; font-size: 20px\">\n",
    "    می‌توان تعداد سطر را مشخص کرد\n",
    "</div>"
   ]
  },
  {
   "cell_type": "code",
   "execution_count": 452,
   "id": "e21a8453-fdc5-4975-9149-ea49646028bb",
   "metadata": {},
   "outputs": [
    {
     "data": {
      "text/html": [
       "<div>\n",
       "<style scoped>\n",
       "    .dataframe tbody tr th:only-of-type {\n",
       "        vertical-align: middle;\n",
       "    }\n",
       "\n",
       "    .dataframe tbody tr th {\n",
       "        vertical-align: top;\n",
       "    }\n",
       "\n",
       "    .dataframe thead th {\n",
       "        text-align: right;\n",
       "    }\n",
       "</style>\n",
       "<table border=\"1\" class=\"dataframe\">\n",
       "  <thead>\n",
       "    <tr style=\"text-align: right;\">\n",
       "      <th></th>\n",
       "      <th>name</th>\n",
       "      <th>age</th>\n",
       "    </tr>\n",
       "  </thead>\n",
       "  <tbody>\n",
       "    <tr>\n",
       "      <th>0</th>\n",
       "      <td>Arsalan</td>\n",
       "      <td>19</td>\n",
       "    </tr>\n",
       "    <tr>\n",
       "      <th>1</th>\n",
       "      <td>Natalie</td>\n",
       "      <td>22</td>\n",
       "    </tr>\n",
       "  </tbody>\n",
       "</table>\n",
       "</div>"
      ],
      "text/plain": [
       "      name  age\n",
       "0  Arsalan   19\n",
       "1  Natalie   22"
      ]
     },
     "execution_count": 452,
     "metadata": {},
     "output_type": "execute_result"
    }
   ],
   "source": [
    "df.head(3)"
   ]
  },
  {
   "cell_type": "markdown",
   "id": "997407f3-4209-4c11-a9bf-5f9d349c4f5a",
   "metadata": {},
   "source": [
    "<div style=\"direction: rtl; text-align: right; font-size: 20px\">\n",
    "    نمایش آخرین ردیف ها :\n",
    "</div>"
   ]
  },
  {
   "cell_type": "code",
   "execution_count": 453,
   "id": "628f3f92-d6be-4970-875d-3ae51dc128ff",
   "metadata": {},
   "outputs": [
    {
     "data": {
      "text/html": [
       "<div>\n",
       "<style scoped>\n",
       "    .dataframe tbody tr th:only-of-type {\n",
       "        vertical-align: middle;\n",
       "    }\n",
       "\n",
       "    .dataframe tbody tr th {\n",
       "        vertical-align: top;\n",
       "    }\n",
       "\n",
       "    .dataframe thead th {\n",
       "        text-align: right;\n",
       "    }\n",
       "</style>\n",
       "<table border=\"1\" class=\"dataframe\">\n",
       "  <thead>\n",
       "    <tr style=\"text-align: right;\">\n",
       "      <th></th>\n",
       "      <th>name</th>\n",
       "      <th>age</th>\n",
       "    </tr>\n",
       "  </thead>\n",
       "  <tbody>\n",
       "    <tr>\n",
       "      <th>0</th>\n",
       "      <td>Arsalan</td>\n",
       "      <td>19</td>\n",
       "    </tr>\n",
       "    <tr>\n",
       "      <th>1</th>\n",
       "      <td>Natalie</td>\n",
       "      <td>22</td>\n",
       "    </tr>\n",
       "  </tbody>\n",
       "</table>\n",
       "</div>"
      ],
      "text/plain": [
       "      name  age\n",
       "0  Arsalan   19\n",
       "1  Natalie   22"
      ]
     },
     "execution_count": 453,
     "metadata": {},
     "output_type": "execute_result"
    }
   ],
   "source": [
    "df.tail()"
   ]
  },
  {
   "cell_type": "markdown",
   "id": "79a38dc9-92a9-474b-acbd-42e30bc5e261",
   "metadata": {},
   "source": [
    "<div style=\"direction: rtl; text-align: right; font-size: 20px\">\n",
    "    نمایش اطلاعات خلاصه درباره‌ی جدول:\n",
    "</div>"
   ]
  },
  {
   "cell_type": "code",
   "execution_count": 454,
   "id": "9fa732d0-89d1-4836-976b-95524dd0acae",
   "metadata": {},
   "outputs": [
    {
     "name": "stdout",
     "output_type": "stream",
     "text": [
      "<class 'pandas.core.frame.DataFrame'>\n",
      "RangeIndex: 2 entries, 0 to 1\n",
      "Data columns (total 2 columns):\n",
      " #   Column  Non-Null Count  Dtype \n",
      "---  ------  --------------  ----- \n",
      " 0   name    2 non-null      object\n",
      " 1   age     2 non-null      int64 \n",
      "dtypes: int64(1), object(1)\n",
      "memory usage: 164.0+ bytes\n"
     ]
    }
   ],
   "source": [
    "df.info()"
   ]
  },
  {
   "cell_type": "markdown",
   "id": "29d4e56d-397b-448a-b44b-a9851fbec102",
   "metadata": {},
   "source": [
    "<div style=\"direction: rtl; text-align: right; font-size: 20px\">\n",
    "     دیدن ایندکس، ستون‌ها و مقادیر\n",
    "</div>"
   ]
  },
  {
   "cell_type": "code",
   "execution_count": 455,
   "id": "9d99410e-e555-4764-8b59-3437acb6bd30",
   "metadata": {},
   "outputs": [
    {
     "data": {
      "text/plain": [
       "RangeIndex(start=0, stop=2, step=1)"
      ]
     },
     "execution_count": 455,
     "metadata": {},
     "output_type": "execute_result"
    }
   ],
   "source": [
    "df.index      # ایندکس‌ها (ردیف‌ها)"
   ]
  },
  {
   "cell_type": "code",
   "execution_count": 456,
   "id": "344f34af-c6d1-49a4-a227-e8021ecafe65",
   "metadata": {},
   "outputs": [
    {
     "data": {
      "text/plain": [
       "Index(['name', 'age'], dtype='object')"
      ]
     },
     "execution_count": 456,
     "metadata": {},
     "output_type": "execute_result"
    }
   ],
   "source": [
    "df.columns    # نام ستون‌ها"
   ]
  },
  {
   "cell_type": "code",
   "execution_count": 457,
   "id": "5b952868-8487-4067-b4c2-826d69a885fa",
   "metadata": {},
   "outputs": [
    {
     "data": {
      "text/plain": [
       "array([['Arsalan', 19],\n",
       "       ['Natalie', 22]], dtype=object)"
      ]
     },
     "execution_count": 457,
     "metadata": {},
     "output_type": "execute_result"
    }
   ],
   "source": [
    "df.values     # مقادیر خام به‌صورت آرایه numpy"
   ]
  },
  {
   "cell_type": "markdown",
   "id": "e278153c-b990-4ef6-9079-37f890fa27af",
   "metadata": {},
   "source": [
    "<div style=\"direction: rtl; text-align: right; font-size: 20px\">\n",
    "    آمار توصیفی از داده‌های عددی:\n",
    "</div>"
   ]
  },
  {
   "cell_type": "code",
   "execution_count": 458,
   "id": "f7c242d7-dd55-4f0d-8f6c-9d599b7bc595",
   "metadata": {},
   "outputs": [
    {
     "data": {
      "text/html": [
       "<div>\n",
       "<style scoped>\n",
       "    .dataframe tbody tr th:only-of-type {\n",
       "        vertical-align: middle;\n",
       "    }\n",
       "\n",
       "    .dataframe tbody tr th {\n",
       "        vertical-align: top;\n",
       "    }\n",
       "\n",
       "    .dataframe thead th {\n",
       "        text-align: right;\n",
       "    }\n",
       "</style>\n",
       "<table border=\"1\" class=\"dataframe\">\n",
       "  <thead>\n",
       "    <tr style=\"text-align: right;\">\n",
       "      <th></th>\n",
       "      <th>age</th>\n",
       "    </tr>\n",
       "  </thead>\n",
       "  <tbody>\n",
       "    <tr>\n",
       "      <th>count</th>\n",
       "      <td>2.00000</td>\n",
       "    </tr>\n",
       "    <tr>\n",
       "      <th>mean</th>\n",
       "      <td>20.50000</td>\n",
       "    </tr>\n",
       "    <tr>\n",
       "      <th>std</th>\n",
       "      <td>2.12132</td>\n",
       "    </tr>\n",
       "    <tr>\n",
       "      <th>min</th>\n",
       "      <td>19.00000</td>\n",
       "    </tr>\n",
       "    <tr>\n",
       "      <th>25%</th>\n",
       "      <td>19.75000</td>\n",
       "    </tr>\n",
       "    <tr>\n",
       "      <th>50%</th>\n",
       "      <td>20.50000</td>\n",
       "    </tr>\n",
       "    <tr>\n",
       "      <th>75%</th>\n",
       "      <td>21.25000</td>\n",
       "    </tr>\n",
       "    <tr>\n",
       "      <th>max</th>\n",
       "      <td>22.00000</td>\n",
       "    </tr>\n",
       "  </tbody>\n",
       "</table>\n",
       "</div>"
      ],
      "text/plain": [
       "            age\n",
       "count   2.00000\n",
       "mean   20.50000\n",
       "std     2.12132\n",
       "min    19.00000\n",
       "25%    19.75000\n",
       "50%    20.50000\n",
       "75%    21.25000\n",
       "max    22.00000"
      ]
     },
     "execution_count": 458,
     "metadata": {},
     "output_type": "execute_result"
    }
   ],
   "source": [
    "df.describe()"
   ]
  },
  {
   "cell_type": "markdown",
   "id": "db6115b2-63b5-407d-bb30-7012f1c85350",
   "metadata": {},
   "source": [
    "<div style=\"direction: rtl; text-align: right; font-size: 30px\">\n",
    "    خواندن و نوشتن داده‌ها (Read/Write)\n",
    "</div>"
   ]
  },
  {
   "cell_type": "markdown",
   "id": "117ecb8e-eac5-4e1e-b06b-d8009c5f0e98",
   "metadata": {},
   "source": [
    "<div style=\"direction: rtl; text-align: right; font-size: 20px; color: red\">\n",
    "نکته : بخش خوندن فایل ,نمونه کدش به صورت raw قرار داره که ارور نخوره چون فایلی نیست در حال حاضر که بخواد بخونه\n",
    "</div>"
   ]
  },
  {
   "cell_type": "markdown",
   "id": "9d3c19c1-efa4-47bb-b877-3104a7b38d5d",
   "metadata": {},
   "source": [
    "<div style=\"direction: rtl; text-align: right; font-size: 20px\">\n",
    "    خواندن داده‌ها از فایل CSV\n",
    "</div>"
   ]
  },
  {
   "cell_type": "raw",
   "id": "3d8d4167-5137-4045-8b2a-0aaa8d559a78",
   "metadata": {},
   "source": [
    "df = pd.read_csv('data.csv')"
   ]
  },
  {
   "cell_type": "markdown",
   "id": "4754b8dd-c1cd-4156-bfda-b6aaa874b17a",
   "metadata": {},
   "source": [
    "<div style=\"direction: rtl; text-align: right; font-size: 20px\">\n",
    "    ذخیره کردن DataFrame به CSV\n",
    "</div>"
   ]
  },
  {
   "cell_type": "code",
   "execution_count": 459,
   "id": "c1a241fb-94e3-41ca-9cd6-7662111743ea",
   "metadata": {},
   "outputs": [],
   "source": [
    "df.to_csv('output.csv', index=False)"
   ]
  },
  {
   "cell_type": "markdown",
   "id": "45100811-948b-4f56-9c33-bcd21d9edfcf",
   "metadata": {},
   "source": [
    "<div style=\"direction: rtl; text-align: right; font-size: 20px; color:red\">\n",
    "    index=False یعنی شماره ردیف‌ها ذخیره نشود (معمولاً لازم است).\n",
    "</div>"
   ]
  },
  {
   "cell_type": "markdown",
   "id": "08681ac4-6bee-44b7-9f81-27b5ce1050c8",
   "metadata": {},
   "source": [
    "<div style=\"direction: rtl; text-align: right; font-size: 20px\">\n",
    "    خواندن فایل‌های Excel\n",
    "</div>"
   ]
  },
  {
   "cell_type": "raw",
   "id": "f2d65e89-2606-4e1d-bd18-11cc550bd1b1",
   "metadata": {},
   "source": [
    "df = pd.read_excel('data.xlsx', sheet_name='Sheet1')"
   ]
  },
  {
   "cell_type": "markdown",
   "id": "0a3c40b5-ee23-4f21-bdbb-23c81eab6fd3",
   "metadata": {},
   "source": [
    "<div style=\"direction: rtl; text-align: right; font-size: 20px\">\n",
    "    نوشتن فایل‌های Excel\n",
    "</div>"
   ]
  },
  {
   "cell_type": "markdown",
   "id": "6b5b392f-7671-4770-949b-a7515d5fab79",
   "metadata": {},
   "source": [
    "<div style=\"direction: rtl; text-align: right; font-size: 20px; color:red\">\n",
    "برای استفاده از این قابلیت باید کتابخونه openpyxl نصب کنی.\n",
    "</div>"
   ]
  },
  {
   "cell_type": "code",
   "execution_count": 460,
   "id": "b04fe05b-d477-4a46-9f58-38a57bb210e3",
   "metadata": {
    "scrolled": true
   },
   "outputs": [
    {
     "name": "stdout",
     "output_type": "stream",
     "text": [
      "Requirement already satisfied: openpyxl in /home/arsalan/.local/share/pipx/venvs/notebook/lib/python3.13/site-packages (3.1.5)\n",
      "Requirement already satisfied: et-xmlfile in /home/arsalan/.local/share/pipx/venvs/notebook/lib/python3.13/site-packages (from openpyxl) (2.0.0)\n",
      "\n",
      "\u001b[1m[\u001b[0m\u001b[34;49mnotice\u001b[0m\u001b[1;39;49m]\u001b[0m\u001b[39;49m A new release of pip is available: \u001b[0m\u001b[31;49m25.0.1\u001b[0m\u001b[39;49m -> \u001b[0m\u001b[32;49m25.1.1\u001b[0m\n",
      "\u001b[1m[\u001b[0m\u001b[34;49mnotice\u001b[0m\u001b[1;39;49m]\u001b[0m\u001b[39;49m To update, run: \u001b[0m\u001b[32;49m/home/arsalan/.local/share/pipx/venvs/notebook/bin/python -m pip install --upgrade pip\u001b[0m\n",
      "Note: you may need to restart the kernel to use updated packages.\n"
     ]
    }
   ],
   "source": [
    "pip install openpyxl"
   ]
  },
  {
   "cell_type": "code",
   "execution_count": 461,
   "id": "df79ea4b-7b3a-49f6-8689-c06c838cc7a0",
   "metadata": {},
   "outputs": [],
   "source": [
    "df.to_excel('output.xlsx', index=False)"
   ]
  },
  {
   "cell_type": "markdown",
   "id": "e27abf0c-3393-4041-a97c-5d57a5c83b39",
   "metadata": {},
   "source": [
    "<div style=\"direction: rtl; text-align: right; font-size: 20px\">\n",
    "    خواندن داده‌های JSON\n",
    "</div>"
   ]
  },
  {
   "cell_type": "raw",
   "id": "23c3ad9a-f2f6-4274-9a1f-4d502d1b5a80",
   "metadata": {},
   "source": [
    "df = pd.read_json('data.json')"
   ]
  },
  {
   "cell_type": "markdown",
   "id": "ea0cafae-9153-47a2-b0a3-eb642c885c45",
   "metadata": {},
   "source": [
    "<div style=\"direction: rtl; text-align: right; font-size: 20px\">\n",
    "    خواندن داده از فایل HTML\n",
    "</div>"
   ]
  },
  {
   "cell_type": "raw",
   "id": "dfbf1875-dd6a-4bb6-85ed-7627b1d95efd",
   "metadata": {},
   "source": [
    "tables = pd.read_html('file.html')"
   ]
  },
  {
   "cell_type": "markdown",
   "id": "715ccf56-e865-4bad-b465-ab14b93bab22",
   "metadata": {},
   "source": [
    "<div style=\"direction: rtl; text-align: right; font-size: 20px; color:red\">\n",
    "برای خوندن فایل html هم نیاز به کتابخونه دیگه ای دارید به اسم lxml.\n",
    "</div>"
   ]
  },
  {
   "cell_type": "markdown",
   "id": "ae569d82-464c-4748-a310-f68df7eff135",
   "metadata": {},
   "source": [
    "<div style=\"direction: rtl; text-align: right; font-size: 20px\">\n",
    "    خواندن داده از پایگاه داده SQL\n",
    "</div>"
   ]
  },
  {
   "cell_type": "markdown",
   "id": "ee803d1d-b61c-4af8-ad97-76841e6ea3fb",
   "metadata": {},
   "source": [
    "<div style=\"direction: rtl; text-align: right; font-size: 18px\">\n",
    "    این بخش یکم پیچیده تر نسبت به بقیه فایل ها هست.\n",
    "    <br>\n",
    "    ابتدا باید یک اتصال (Connection) به دیتابیس داشته باشی. معمولاً با کتابخانه‌هایی مثل sqlite3 یا sqlalchemy.\n",
    "    <br>\n",
    "    سپس با pd.read_sql() یا pd.read_sql_query() کوئری SQL رو اجرا و نتایج رو DataFrame می‌کنه.\n",
    "</div>"
   ]
  },
  {
   "cell_type": "markdown",
   "id": "93c7cd28-03e7-4578-8c89-193d8742da61",
   "metadata": {},
   "source": [
    "<div style=\"direction: rtl; text-align: right; font-size: 18px; color:red\">\n",
    "    نکته : برای کار با دیتابیس‌های مختلف مثل MySQL، PostgreSQL، نیاز به نصب درایورهای مربوطه (مثل pymysql, psycopg2) و استفاده از sqlalchemy داری.\n",
    "</div>"
   ]
  },
  {
   "cell_type": "markdown",
   "id": "0875f507-2809-4d7a-97f7-0b7eb4d3fc51",
   "metadata": {},
   "source": [
    "<div style=\"direction: rtl; text-align: right; font-size: 30px\">\n",
    "    فیلتر کردن و انتخاب زیرمجموعه داده‌ها\n",
    "</div>"
   ]
  },
  {
   "cell_type": "markdown",
   "id": "a0e72ac0-dd56-4feb-b05d-1c79105e190f",
   "metadata": {},
   "source": [
    "<div style=\"direction: rtl; text-align: right; font-size: 20px\">\n",
    "     انتخاب ستون‌ها\n",
    "</div>"
   ]
  },
  {
   "cell_type": "code",
   "execution_count": 462,
   "id": "0fcae40e-7e57-4e56-ab20-beef8cf79206",
   "metadata": {},
   "outputs": [
    {
     "data": {
      "text/plain": [
       "0    Arsalan\n",
       "1    Natalie\n",
       "Name: name, dtype: object"
      ]
     },
     "execution_count": 462,
     "metadata": {},
     "output_type": "execute_result"
    }
   ],
   "source": [
    "df['name']"
   ]
  },
  {
   "cell_type": "code",
   "execution_count": 463,
   "id": "106eb667-7942-43d8-a545-dafde32f19e4",
   "metadata": {},
   "outputs": [
    {
     "data": {
      "text/html": [
       "<div>\n",
       "<style scoped>\n",
       "    .dataframe tbody tr th:only-of-type {\n",
       "        vertical-align: middle;\n",
       "    }\n",
       "\n",
       "    .dataframe tbody tr th {\n",
       "        vertical-align: top;\n",
       "    }\n",
       "\n",
       "    .dataframe thead th {\n",
       "        text-align: right;\n",
       "    }\n",
       "</style>\n",
       "<table border=\"1\" class=\"dataframe\">\n",
       "  <thead>\n",
       "    <tr style=\"text-align: right;\">\n",
       "      <th></th>\n",
       "      <th>name</th>\n",
       "      <th>age</th>\n",
       "    </tr>\n",
       "  </thead>\n",
       "  <tbody>\n",
       "    <tr>\n",
       "      <th>0</th>\n",
       "      <td>Arsalan</td>\n",
       "      <td>19</td>\n",
       "    </tr>\n",
       "    <tr>\n",
       "      <th>1</th>\n",
       "      <td>Natalie</td>\n",
       "      <td>22</td>\n",
       "    </tr>\n",
       "  </tbody>\n",
       "</table>\n",
       "</div>"
      ],
      "text/plain": [
       "      name  age\n",
       "0  Arsalan   19\n",
       "1  Natalie   22"
      ]
     },
     "execution_count": 463,
     "metadata": {},
     "output_type": "execute_result"
    }
   ],
   "source": [
    "df[['name', 'age']]"
   ]
  },
  {
   "cell_type": "markdown",
   "id": "d8f2ca8a-2151-4c38-95bc-035cecf5db45",
   "metadata": {},
   "source": [
    "<div style=\"direction: rtl; text-align: right; font-size: 20px\">\n",
    "    انتخاب ردیف‌ها با شرط(فیلتر کردن)\n",
    "</div>"
   ]
  },
  {
   "cell_type": "code",
   "execution_count": 464,
   "id": "9c3853ae-d38c-4dfd-bc7f-946f31311dc4",
   "metadata": {},
   "outputs": [
    {
     "data": {
      "text/html": [
       "<div>\n",
       "<style scoped>\n",
       "    .dataframe tbody tr th:only-of-type {\n",
       "        vertical-align: middle;\n",
       "    }\n",
       "\n",
       "    .dataframe tbody tr th {\n",
       "        vertical-align: top;\n",
       "    }\n",
       "\n",
       "    .dataframe thead th {\n",
       "        text-align: right;\n",
       "    }\n",
       "</style>\n",
       "<table border=\"1\" class=\"dataframe\">\n",
       "  <thead>\n",
       "    <tr style=\"text-align: right;\">\n",
       "      <th></th>\n",
       "      <th>name</th>\n",
       "      <th>age</th>\n",
       "    </tr>\n",
       "  </thead>\n",
       "  <tbody>\n",
       "    <tr>\n",
       "      <th>1</th>\n",
       "      <td>Natalie</td>\n",
       "      <td>22</td>\n",
       "    </tr>\n",
       "  </tbody>\n",
       "</table>\n",
       "</div>"
      ],
      "text/plain": [
       "      name  age\n",
       "1  Natalie   22"
      ]
     },
     "execution_count": 464,
     "metadata": {},
     "output_type": "execute_result"
    }
   ],
   "source": [
    "df[df['age'] > 20]"
   ]
  },
  {
   "cell_type": "markdown",
   "id": "5ddb3292-8175-4097-bc7a-60764d98b48d",
   "metadata": {},
   "source": [
    "<div style=\"direction: rtl; text-align: right; font-size: 20px\">\n",
    "ترکیب شرط ها ( فیلتر کردن با شرط)\n",
    "    <br>\n",
    "    شرط‌های چندگانه با & (و) و | (یا) و باید پرانتز بزنی:\n",
    "</div>"
   ]
  },
  {
   "cell_type": "code",
   "execution_count": 465,
   "id": "aad7aa08-b66b-467c-8104-51e44d7e4f00",
   "metadata": {},
   "outputs": [],
   "source": [
    "data = {\n",
    "    'apples': [3, 2, 0, 1],\n",
    "    'oranges': [0, None, 7, 2],\n",
    "    'bananas': [1, 2, 3, 4]\n",
    "}\n",
    "ds = pd.DataFrame(data)"
   ]
  },
  {
   "cell_type": "code",
   "execution_count": 466,
   "id": "0d28666c-c2ba-46d7-8a92-cc8f19b95da2",
   "metadata": {},
   "outputs": [
    {
     "data": {
      "text/html": [
       "<div>\n",
       "<style scoped>\n",
       "    .dataframe tbody tr th:only-of-type {\n",
       "        vertical-align: middle;\n",
       "    }\n",
       "\n",
       "    .dataframe tbody tr th {\n",
       "        vertical-align: top;\n",
       "    }\n",
       "\n",
       "    .dataframe thead th {\n",
       "        text-align: right;\n",
       "    }\n",
       "</style>\n",
       "<table border=\"1\" class=\"dataframe\">\n",
       "  <thead>\n",
       "    <tr style=\"text-align: right;\">\n",
       "      <th></th>\n",
       "      <th>apples</th>\n",
       "      <th>oranges</th>\n",
       "      <th>bananas</th>\n",
       "    </tr>\n",
       "  </thead>\n",
       "  <tbody>\n",
       "    <tr>\n",
       "      <th>0</th>\n",
       "      <td>3</td>\n",
       "      <td>0.0</td>\n",
       "      <td>1</td>\n",
       "    </tr>\n",
       "  </tbody>\n",
       "</table>\n",
       "</div>"
      ],
      "text/plain": [
       "   apples  oranges  bananas\n",
       "0       3      0.0        1"
      ]
     },
     "execution_count": 466,
     "metadata": {},
     "output_type": "execute_result"
    }
   ],
   "source": [
    "ds[(ds['apples'] > 2) & (ds['oranges'] < 5)]"
   ]
  },
  {
   "cell_type": "markdown",
   "id": "509b6908-60ab-4f2f-8712-1850a5391c94",
   "metadata": {},
   "source": [
    "<div style=\"direction: rtl; text-align: right; font-size: 20px\">\n",
    "    انتخاب سطر با برش (Slicing)\n",
    "</div>"
   ]
  },
  {
   "cell_type": "code",
   "execution_count": 467,
   "id": "dbd28e51-47ca-4ab1-9711-daf4d68c9a60",
   "metadata": {},
   "outputs": [
    {
     "data": {
      "text/html": [
       "<div>\n",
       "<style scoped>\n",
       "    .dataframe tbody tr th:only-of-type {\n",
       "        vertical-align: middle;\n",
       "    }\n",
       "\n",
       "    .dataframe tbody tr th {\n",
       "        vertical-align: top;\n",
       "    }\n",
       "\n",
       "    .dataframe thead th {\n",
       "        text-align: right;\n",
       "    }\n",
       "</style>\n",
       "<table border=\"1\" class=\"dataframe\">\n",
       "  <thead>\n",
       "    <tr style=\"text-align: right;\">\n",
       "      <th></th>\n",
       "      <th>apples</th>\n",
       "      <th>oranges</th>\n",
       "      <th>bananas</th>\n",
       "    </tr>\n",
       "  </thead>\n",
       "  <tbody>\n",
       "    <tr>\n",
       "      <th>0</th>\n",
       "      <td>3</td>\n",
       "      <td>0.0</td>\n",
       "      <td>1</td>\n",
       "    </tr>\n",
       "    <tr>\n",
       "      <th>1</th>\n",
       "      <td>2</td>\n",
       "      <td>NaN</td>\n",
       "      <td>2</td>\n",
       "    </tr>\n",
       "    <tr>\n",
       "      <th>2</th>\n",
       "      <td>0</td>\n",
       "      <td>7.0</td>\n",
       "      <td>3</td>\n",
       "    </tr>\n",
       "  </tbody>\n",
       "</table>\n",
       "</div>"
      ],
      "text/plain": [
       "   apples  oranges  bananas\n",
       "0       3      0.0        1\n",
       "1       2      NaN        2\n",
       "2       0      7.0        3"
      ]
     },
     "execution_count": 467,
     "metadata": {},
     "output_type": "execute_result"
    }
   ],
   "source": [
    "ds[0:3]"
   ]
  },
  {
   "cell_type": "markdown",
   "id": "7c1b5284-1635-4af9-a0bc-4a108b2dabd5",
   "metadata": {},
   "source": [
    "<div style=\"direction: rtl; text-align: right; font-size: 20px\">\n",
    "انتخاب ردیف و ستون با .loc\n",
    "</div>"
   ]
  },
  {
   "cell_type": "markdown",
   "id": "9de68fcb-f6e9-4e0b-be6e-43f96ba0cbf0",
   "metadata": {},
   "source": [
    "<div style=\"direction: rtl; text-align: right; font-size: 17px\">\n",
    "    .loc بر اساس برچسب‌ها (ایندکس ردیف و نام ستون) انتخاب می‌کند.\n",
    "</div>"
   ]
  },
  {
   "cell_type": "raw",
   "id": "d0c92918-f835-40d4-8d74-12e7cf9ed570",
   "metadata": {},
   "source": [
    "ds.loc[condition, ['col1', 'col2']]"
   ]
  },
  {
   "cell_type": "code",
   "execution_count": 468,
   "id": "c3c30690-3eb4-4689-a4b5-7bd68b61be8b",
   "metadata": {},
   "outputs": [
    {
     "data": {
      "text/html": [
       "<div>\n",
       "<style scoped>\n",
       "    .dataframe tbody tr th:only-of-type {\n",
       "        vertical-align: middle;\n",
       "    }\n",
       "\n",
       "    .dataframe tbody tr th {\n",
       "        vertical-align: top;\n",
       "    }\n",
       "\n",
       "    .dataframe thead th {\n",
       "        text-align: right;\n",
       "    }\n",
       "</style>\n",
       "<table border=\"1\" class=\"dataframe\">\n",
       "  <thead>\n",
       "    <tr style=\"text-align: right;\">\n",
       "      <th></th>\n",
       "      <th>apples</th>\n",
       "      <th>oranges</th>\n",
       "    </tr>\n",
       "  </thead>\n",
       "  <tbody>\n",
       "    <tr>\n",
       "      <th>0</th>\n",
       "      <td>3</td>\n",
       "      <td>0.0</td>\n",
       "    </tr>\n",
       "  </tbody>\n",
       "</table>\n",
       "</div>"
      ],
      "text/plain": [
       "   apples  oranges\n",
       "0       3      0.0"
      ]
     },
     "execution_count": 468,
     "metadata": {},
     "output_type": "execute_result"
    }
   ],
   "source": [
    "ds.loc[ds['apples'] > 2, ['apples', 'oranges']]"
   ]
  },
  {
   "cell_type": "markdown",
   "id": "44e78db0-80fa-4a80-8728-829de3decc7b",
   "metadata": {},
   "source": [
    "<div style=\"direction: rtl; text-align: right; font-size: 20px\">\n",
    " انتخاب بر اساس موقعیت عددی با .iloc\n",
    "</div>"
   ]
  },
  {
   "cell_type": "code",
   "execution_count": 469,
   "id": "2fccf83e-1d30-419b-a001-57886be0af7e",
   "metadata": {},
   "outputs": [
    {
     "data": {
      "text/html": [
       "<div>\n",
       "<style scoped>\n",
       "    .dataframe tbody tr th:only-of-type {\n",
       "        vertical-align: middle;\n",
       "    }\n",
       "\n",
       "    .dataframe tbody tr th {\n",
       "        vertical-align: top;\n",
       "    }\n",
       "\n",
       "    .dataframe thead th {\n",
       "        text-align: right;\n",
       "    }\n",
       "</style>\n",
       "<table border=\"1\" class=\"dataframe\">\n",
       "  <thead>\n",
       "    <tr style=\"text-align: right;\">\n",
       "      <th></th>\n",
       "      <th>apples</th>\n",
       "      <th>oranges</th>\n",
       "    </tr>\n",
       "  </thead>\n",
       "  <tbody>\n",
       "    <tr>\n",
       "      <th>0</th>\n",
       "      <td>3</td>\n",
       "      <td>0.0</td>\n",
       "    </tr>\n",
       "    <tr>\n",
       "      <th>1</th>\n",
       "      <td>2</td>\n",
       "      <td>NaN</td>\n",
       "    </tr>\n",
       "    <tr>\n",
       "      <th>2</th>\n",
       "      <td>0</td>\n",
       "      <td>7.0</td>\n",
       "    </tr>\n",
       "  </tbody>\n",
       "</table>\n",
       "</div>"
      ],
      "text/plain": [
       "   apples  oranges\n",
       "0       3      0.0\n",
       "1       2      NaN\n",
       "2       0      7.0"
      ]
     },
     "execution_count": 469,
     "metadata": {},
     "output_type": "execute_result"
    }
   ],
   "source": [
    "ds.iloc[:3, :2]"
   ]
  },
  {
   "cell_type": "markdown",
   "id": "40ad2aff-e365-4ed7-b870-efad4d860a1d",
   "metadata": {},
   "source": [
    "<div style=\"direction: rtl; text-align: right; font-size: 20px\">\n",
    "فیلتر کردن مقادیر غیر NaN\n",
    "</div>"
   ]
  },
  {
   "cell_type": "code",
   "execution_count": 470,
   "id": "939f59a7-dc13-42d1-9075-137f04eab868",
   "metadata": {},
   "outputs": [
    {
     "data": {
      "text/html": [
       "<div>\n",
       "<style scoped>\n",
       "    .dataframe tbody tr th:only-of-type {\n",
       "        vertical-align: middle;\n",
       "    }\n",
       "\n",
       "    .dataframe tbody tr th {\n",
       "        vertical-align: top;\n",
       "    }\n",
       "\n",
       "    .dataframe thead th {\n",
       "        text-align: right;\n",
       "    }\n",
       "</style>\n",
       "<table border=\"1\" class=\"dataframe\">\n",
       "  <thead>\n",
       "    <tr style=\"text-align: right;\">\n",
       "      <th></th>\n",
       "      <th>apples</th>\n",
       "      <th>oranges</th>\n",
       "      <th>bananas</th>\n",
       "    </tr>\n",
       "  </thead>\n",
       "  <tbody>\n",
       "    <tr>\n",
       "      <th>0</th>\n",
       "      <td>3</td>\n",
       "      <td>0.0</td>\n",
       "      <td>1</td>\n",
       "    </tr>\n",
       "    <tr>\n",
       "      <th>2</th>\n",
       "      <td>0</td>\n",
       "      <td>7.0</td>\n",
       "      <td>3</td>\n",
       "    </tr>\n",
       "    <tr>\n",
       "      <th>3</th>\n",
       "      <td>1</td>\n",
       "      <td>2.0</td>\n",
       "      <td>4</td>\n",
       "    </tr>\n",
       "  </tbody>\n",
       "</table>\n",
       "</div>"
      ],
      "text/plain": [
       "   apples  oranges  bananas\n",
       "0       3      0.0        1\n",
       "2       0      7.0        3\n",
       "3       1      2.0        4"
      ]
     },
     "execution_count": 470,
     "metadata": {},
     "output_type": "execute_result"
    }
   ],
   "source": [
    "ds[ds['oranges'].notna()]\n"
   ]
  },
  {
   "cell_type": "markdown",
   "id": "de4bfd57-e807-4751-a9e6-cb4daee3ddff",
   "metadata": {},
   "source": [
    "<div style=\"direction: rtl; text-align: right; font-size: 20px\">\n",
    "    فیلتر کردن با مقدارهای خاص\n",
    "</div>"
   ]
  },
  {
   "cell_type": "code",
   "execution_count": 471,
   "id": "749ddfa1-ef7f-4482-af69-819567914ae8",
   "metadata": {},
   "outputs": [
    {
     "data": {
      "text/html": [
       "<div>\n",
       "<style scoped>\n",
       "    .dataframe tbody tr th:only-of-type {\n",
       "        vertical-align: middle;\n",
       "    }\n",
       "\n",
       "    .dataframe tbody tr th {\n",
       "        vertical-align: top;\n",
       "    }\n",
       "\n",
       "    .dataframe thead th {\n",
       "        text-align: right;\n",
       "    }\n",
       "</style>\n",
       "<table border=\"1\" class=\"dataframe\">\n",
       "  <thead>\n",
       "    <tr style=\"text-align: right;\">\n",
       "      <th></th>\n",
       "      <th>apples</th>\n",
       "      <th>oranges</th>\n",
       "      <th>bananas</th>\n",
       "    </tr>\n",
       "  </thead>\n",
       "  <tbody>\n",
       "    <tr>\n",
       "      <th>0</th>\n",
       "      <td>3</td>\n",
       "      <td>0.0</td>\n",
       "      <td>1</td>\n",
       "    </tr>\n",
       "    <tr>\n",
       "      <th>2</th>\n",
       "      <td>0</td>\n",
       "      <td>7.0</td>\n",
       "      <td>3</td>\n",
       "    </tr>\n",
       "  </tbody>\n",
       "</table>\n",
       "</div>"
      ],
      "text/plain": [
       "   apples  oranges  bananas\n",
       "0       3      0.0        1\n",
       "2       0      7.0        3"
      ]
     },
     "execution_count": 471,
     "metadata": {},
     "output_type": "execute_result"
    }
   ],
   "source": [
    "ds[ds['apples'].isin([0, 3])]"
   ]
  },
  {
   "cell_type": "markdown",
   "id": "5fa14a25-0804-419e-9f3c-5b14365effa0",
   "metadata": {},
   "source": [
    "<div style=\"direction: rtl; text-align: right; font-size: 30px\">\n",
    "    چطور ستون جدید به DataFrame اضافه کنیم؟\n",
    "</div>"
   ]
  },
  {
   "cell_type": "markdown",
   "id": "6bec6ce4-8f78-4560-9a13-288ebbd84221",
   "metadata": {},
   "source": [
    "<div style=\"direction: rtl; text-align: right; font-size: 20px\">\n",
    "    اضافه کردن ستون با محاسبه\n",
    "</div>"
   ]
  },
  {
   "cell_type": "code",
   "execution_count": 472,
   "id": "96d85f93-f7c2-4ac2-b692-652887a03c77",
   "metadata": {},
   "outputs": [
    {
     "name": "stdout",
     "output_type": "stream",
     "text": [
      "   apples  oranges  bananas  total_fruits\n",
      "0       3      0.0        1           3.0\n",
      "1       2      NaN        2           NaN\n",
      "2       0      7.0        3           7.0\n",
      "3       1      2.0        4           3.0\n"
     ]
    }
   ],
   "source": [
    "ds['total_fruits'] = ds['apples'] + ds['oranges']\n",
    "print(ds)"
   ]
  },
  {
   "cell_type": "markdown",
   "id": "d689e96f-68e8-4760-b8cb-f3107c0f0fd2",
   "metadata": {},
   "source": [
    "<div style=\"direction: rtl; text-align: right; font-size: 20px\">\n",
    "    اضافه کردن ستون ثابت\n",
    "</div>"
   ]
  },
  {
   "cell_type": "code",
   "execution_count": 473,
   "id": "6612ed0b-1a39-4519-bc57-6db18ed276af",
   "metadata": {},
   "outputs": [
    {
     "name": "stdout",
     "output_type": "stream",
     "text": [
      "   apples  oranges  bananas  total_fruits country\n",
      "0       3      0.0        1           3.0    Iran\n",
      "1       2      NaN        2           NaN    Iran\n",
      "2       0      7.0        3           7.0    Iran\n",
      "3       1      2.0        4           3.0    Iran\n"
     ]
    }
   ],
   "source": [
    "ds['country'] = 'Iran'\n",
    "print(ds)"
   ]
  },
  {
   "cell_type": "markdown",
   "id": "33312ca5-4d8e-433a-a6e9-e1a5a9751a4a",
   "metadata": {},
   "source": [
    "<div style=\"direction: rtl; text-align: right; font-size: 20px\">\n",
    "     اضافه کردن با لیست یا سری\n",
    "</div>"
   ]
  },
  {
   "cell_type": "code",
   "execution_count": 474,
   "id": "47ff2b2a-8f1e-4c89-9355-b80bca2e62da",
   "metadata": {},
   "outputs": [
    {
     "name": "stdout",
     "output_type": "stream",
     "text": [
      "   apples  oranges  bananas  total_fruits country  prices\n",
      "0       3      0.0        1           3.0    Iran    1000\n",
      "1       2      NaN        2           NaN    Iran    2000\n",
      "2       0      7.0        3           7.0    Iran    1500\n",
      "3       1      2.0        4           3.0    Iran    1200\n"
     ]
    }
   ],
   "source": [
    "ds['prices'] = [1000, 2000, 1500, 1200]\n",
    "print(ds)"
   ]
  },
  {
   "cell_type": "markdown",
   "id": "176a2997-2b17-43d7-b288-cb5366a13086",
   "metadata": {},
   "source": [
    "<div style=\"direction: rtl; text-align: right; font-size: 20px\">\n",
    "    با تابع\n",
    "</div>"
   ]
  },
  {
   "cell_type": "code",
   "execution_count": 475,
   "id": "8a48d532-abd9-4234-8fef-f5dcc094cc9e",
   "metadata": {},
   "outputs": [
    {
     "name": "stdout",
     "output_type": "stream",
     "text": [
      "   apples  oranges  bananas  total_fruits country  prices label\n",
      "0       3      0.0        1           3.0    Iran    1000  high\n",
      "1       2      NaN        2           NaN    Iran    2000  high\n",
      "2       0      7.0        3           7.0    Iran    1500   low\n",
      "3       1      2.0        4           3.0    Iran    1200   low\n"
     ]
    }
   ],
   "source": [
    "ds['label'] = ds['apples'].apply(lambda x: 'low' if x < 2 else 'high')\n",
    "print(ds)"
   ]
  },
  {
   "cell_type": "markdown",
   "id": "b0a08d49-d452-44b7-8254-459bd2e2cfb8",
   "metadata": {},
   "source": [
    "<div style=\"direction: rtl; text-align: right; font-size: 30px\">\n",
    "    محاسبه آمار در Pandas\n",
    "</div>"
   ]
  },
  {
   "cell_type": "markdown",
   "id": "600ca16c-e65c-4c4a-a0e1-cc516646d031",
   "metadata": {},
   "source": [
    "<div style=\"direction: rtl; text-align: right; font-size: 20px\">\n",
    "    توصیف آماری سریع \n",
    "    <br>\n",
    "⬩    خروجی شامل:\n",
    "    <br>\n",
    "• تعداد داده‌ها (count)\n",
    "    <br>\n",
    "• میانگین (mean)\n",
    "    <br>\n",
    "• انحراف معیار (std)\n",
    "    <br>\n",
    "• مینیمم، ماکزیمم، چارک‌ها (25%، 50%، 75%)\n",
    "</div>"
   ]
  },
  {
   "cell_type": "code",
   "execution_count": 476,
   "id": "6b1f411a-3fa3-48cd-b947-454606d88a91",
   "metadata": {},
   "outputs": [
    {
     "data": {
      "text/html": [
       "<div>\n",
       "<style scoped>\n",
       "    .dataframe tbody tr th:only-of-type {\n",
       "        vertical-align: middle;\n",
       "    }\n",
       "\n",
       "    .dataframe tbody tr th {\n",
       "        vertical-align: top;\n",
       "    }\n",
       "\n",
       "    .dataframe thead th {\n",
       "        text-align: right;\n",
       "    }\n",
       "</style>\n",
       "<table border=\"1\" class=\"dataframe\">\n",
       "  <thead>\n",
       "    <tr style=\"text-align: right;\">\n",
       "      <th></th>\n",
       "      <th>apples</th>\n",
       "      <th>oranges</th>\n",
       "      <th>bananas</th>\n",
       "      <th>total_fruits</th>\n",
       "      <th>prices</th>\n",
       "    </tr>\n",
       "  </thead>\n",
       "  <tbody>\n",
       "    <tr>\n",
       "      <th>count</th>\n",
       "      <td>4.000000</td>\n",
       "      <td>3.000000</td>\n",
       "      <td>4.000000</td>\n",
       "      <td>3.000000</td>\n",
       "      <td>4.000000</td>\n",
       "    </tr>\n",
       "    <tr>\n",
       "      <th>mean</th>\n",
       "      <td>1.500000</td>\n",
       "      <td>3.000000</td>\n",
       "      <td>2.500000</td>\n",
       "      <td>4.333333</td>\n",
       "      <td>1425.000000</td>\n",
       "    </tr>\n",
       "    <tr>\n",
       "      <th>std</th>\n",
       "      <td>1.290994</td>\n",
       "      <td>3.605551</td>\n",
       "      <td>1.290994</td>\n",
       "      <td>2.309401</td>\n",
       "      <td>434.932945</td>\n",
       "    </tr>\n",
       "    <tr>\n",
       "      <th>min</th>\n",
       "      <td>0.000000</td>\n",
       "      <td>0.000000</td>\n",
       "      <td>1.000000</td>\n",
       "      <td>3.000000</td>\n",
       "      <td>1000.000000</td>\n",
       "    </tr>\n",
       "    <tr>\n",
       "      <th>25%</th>\n",
       "      <td>0.750000</td>\n",
       "      <td>1.000000</td>\n",
       "      <td>1.750000</td>\n",
       "      <td>3.000000</td>\n",
       "      <td>1150.000000</td>\n",
       "    </tr>\n",
       "    <tr>\n",
       "      <th>50%</th>\n",
       "      <td>1.500000</td>\n",
       "      <td>2.000000</td>\n",
       "      <td>2.500000</td>\n",
       "      <td>3.000000</td>\n",
       "      <td>1350.000000</td>\n",
       "    </tr>\n",
       "    <tr>\n",
       "      <th>75%</th>\n",
       "      <td>2.250000</td>\n",
       "      <td>4.500000</td>\n",
       "      <td>3.250000</td>\n",
       "      <td>5.000000</td>\n",
       "      <td>1625.000000</td>\n",
       "    </tr>\n",
       "    <tr>\n",
       "      <th>max</th>\n",
       "      <td>3.000000</td>\n",
       "      <td>7.000000</td>\n",
       "      <td>4.000000</td>\n",
       "      <td>7.000000</td>\n",
       "      <td>2000.000000</td>\n",
       "    </tr>\n",
       "  </tbody>\n",
       "</table>\n",
       "</div>"
      ],
      "text/plain": [
       "         apples   oranges   bananas  total_fruits       prices\n",
       "count  4.000000  3.000000  4.000000      3.000000     4.000000\n",
       "mean   1.500000  3.000000  2.500000      4.333333  1425.000000\n",
       "std    1.290994  3.605551  1.290994      2.309401   434.932945\n",
       "min    0.000000  0.000000  1.000000      3.000000  1000.000000\n",
       "25%    0.750000  1.000000  1.750000      3.000000  1150.000000\n",
       "50%    1.500000  2.000000  2.500000      3.000000  1350.000000\n",
       "75%    2.250000  4.500000  3.250000      5.000000  1625.000000\n",
       "max    3.000000  7.000000  4.000000      7.000000  2000.000000"
      ]
     },
     "execution_count": 476,
     "metadata": {},
     "output_type": "execute_result"
    }
   ],
   "source": [
    "ds.describe()"
   ]
  },
  {
   "cell_type": "markdown",
   "id": "b1bb34d1-8490-459f-96a1-c13bea7a79f1",
   "metadata": {},
   "source": [
    "<div style=\"direction: rtl; text-align: right; font-size: 20px\">\n",
    "    میانگین (Average)\n",
    "</div>"
   ]
  },
  {
   "cell_type": "code",
   "execution_count": 477,
   "id": "69d19ffb-a13c-42f8-a6be-c86da86abb42",
   "metadata": {},
   "outputs": [
    {
     "data": {
      "text/plain": [
       "np.float64(1.5)"
      ]
     },
     "execution_count": 477,
     "metadata": {},
     "output_type": "execute_result"
    }
   ],
   "source": [
    "ds['apples'].mean()"
   ]
  },
  {
   "cell_type": "markdown",
   "id": "923e60a1-b410-4a20-9940-6c030ce663eb",
   "metadata": {},
   "source": [
    "<div style=\"direction: rtl; text-align: right; font-size: 20px\">\n",
    "    مجموع\n",
    "</div>"
   ]
  },
  {
   "cell_type": "code",
   "execution_count": 478,
   "id": "cb07a58c-7aa7-4526-9f7b-28d144660614",
   "metadata": {},
   "outputs": [
    {
     "data": {
      "text/plain": [
       "np.int64(6)"
      ]
     },
     "execution_count": 478,
     "metadata": {},
     "output_type": "execute_result"
    }
   ],
   "source": [
    "ds['apples'].sum()"
   ]
  },
  {
   "cell_type": "markdown",
   "id": "bea5df67-0d2b-4ec6-8997-bbc48032ef92",
   "metadata": {},
   "source": [
    "<div style=\"direction: rtl; text-align: right; font-size: 20px\">\n",
    "    کمترین و بیشترین مقدار\n",
    "</div>"
   ]
  },
  {
   "cell_type": "code",
   "execution_count": 479,
   "id": "ec8c884b-db48-4c94-a236-ae0980400381",
   "metadata": {},
   "outputs": [
    {
     "name": "stdout",
     "output_type": "stream",
     "text": [
      "0\n",
      "3\n"
     ]
    }
   ],
   "source": [
    "print(ds['apples'].min())\n",
    "print(ds['apples'].max())"
   ]
  },
  {
   "cell_type": "markdown",
   "id": "d8aa4309-9d61-4351-8666-4a7c7f897263",
   "metadata": {},
   "source": [
    "<div style=\"direction: rtl; text-align: right; font-size: 20px\">\n",
    "    شمارش تعداد (مقادیر غیر خالی)\n",
    "</div>"
   ]
  },
  {
   "cell_type": "code",
   "execution_count": 480,
   "id": "81534624-1377-4aaa-858a-188d743e0025",
   "metadata": {},
   "outputs": [
    {
     "data": {
      "text/plain": [
       "np.int64(4)"
      ]
     },
     "execution_count": 480,
     "metadata": {},
     "output_type": "execute_result"
    }
   ],
   "source": [
    "ds['apples'].count()"
   ]
  },
  {
   "cell_type": "markdown",
   "id": "694579ed-58d5-4000-a062-1237d80784e4",
   "metadata": {},
   "source": [
    "<div style=\"direction: rtl; text-align: right; font-size: 20px\">\n",
    "    شمارش فراوانی مقادیر\n",
    "</div>"
   ]
  },
  {
   "cell_type": "code",
   "execution_count": 481,
   "id": "739e7367-4781-4e0d-b2bc-1e155ed7f86e",
   "metadata": {},
   "outputs": [
    {
     "data": {
      "text/plain": [
       "apples\n",
       "3    1\n",
       "2    1\n",
       "0    1\n",
       "1    1\n",
       "Name: count, dtype: int64"
      ]
     },
     "execution_count": 481,
     "metadata": {},
     "output_type": "execute_result"
    }
   ],
   "source": [
    "ds['apples'].value_counts()"
   ]
  },
  {
   "cell_type": "markdown",
   "id": "e0795957-50d5-4c5c-983b-867f89eec352",
   "metadata": {},
   "source": [
    "<div style=\"direction: rtl; text-align: right; font-size: 20px\">\n",
    "انحراف معیار و واریانس\n",
    "</div>"
   ]
  },
  {
   "cell_type": "code",
   "execution_count": 482,
   "id": "3fb83684-f734-48d1-b71e-eda3c263c39e",
   "metadata": {},
   "outputs": [
    {
     "name": "stdout",
     "output_type": "stream",
     "text": [
      "1.2909944487358056\n",
      "1.6666666666666667\n"
     ]
    }
   ],
   "source": [
    "print(ds['apples'].std())\n",
    "print(ds['apples'].var())"
   ]
  },
  {
   "cell_type": "markdown",
   "id": "fb58689c-937e-402a-bf15-acc9830ba116",
   "metadata": {},
   "source": [
    "<div style=\"direction: rtl; text-align: right; font-size: 20px\">\n",
    "     ترکیب چند تابع \n",
    "</div>"
   ]
  },
  {
   "cell_type": "code",
   "execution_count": 483,
   "id": "af383410-c209-43ff-86e9-da2723029bd6",
   "metadata": {},
   "outputs": [
    {
     "data": {
      "text/html": [
       "<div>\n",
       "<style scoped>\n",
       "    .dataframe tbody tr th:only-of-type {\n",
       "        vertical-align: middle;\n",
       "    }\n",
       "\n",
       "    .dataframe tbody tr th {\n",
       "        vertical-align: top;\n",
       "    }\n",
       "\n",
       "    .dataframe thead th {\n",
       "        text-align: right;\n",
       "    }\n",
       "</style>\n",
       "<table border=\"1\" class=\"dataframe\">\n",
       "  <thead>\n",
       "    <tr style=\"text-align: right;\">\n",
       "      <th></th>\n",
       "      <th>apples</th>\n",
       "      <th>oranges</th>\n",
       "    </tr>\n",
       "  </thead>\n",
       "  <tbody>\n",
       "    <tr>\n",
       "      <th>sum</th>\n",
       "      <td>6.0</td>\n",
       "      <td>NaN</td>\n",
       "    </tr>\n",
       "    <tr>\n",
       "      <th>mean</th>\n",
       "      <td>1.5</td>\n",
       "      <td>NaN</td>\n",
       "    </tr>\n",
       "    <tr>\n",
       "      <th>min</th>\n",
       "      <td>NaN</td>\n",
       "      <td>0.0</td>\n",
       "    </tr>\n",
       "    <tr>\n",
       "      <th>max</th>\n",
       "      <td>NaN</td>\n",
       "      <td>7.0</td>\n",
       "    </tr>\n",
       "  </tbody>\n",
       "</table>\n",
       "</div>"
      ],
      "text/plain": [
       "      apples  oranges\n",
       "sum      6.0      NaN\n",
       "mean     1.5      NaN\n",
       "min      NaN      0.0\n",
       "max      NaN      7.0"
      ]
     },
     "execution_count": 483,
     "metadata": {},
     "output_type": "execute_result"
    }
   ],
   "source": [
    "ds.agg({\n",
    "    'apples': ['sum', 'mean'],\n",
    "    'oranges': ['min', 'max']\n",
    "})"
   ]
  },
  {
   "cell_type": "markdown",
   "id": "f37a4d06-406e-4ab1-8e8c-d34ee2df4df7",
   "metadata": {},
   "source": [
    "<div style=\"direction: rtl; text-align: right; font-size: 20px\">\n",
    "     استفاده از agg() روی یک ستون\n",
    "</div>"
   ]
  },
  {
   "cell_type": "code",
   "execution_count": 484,
   "id": "0fc6a49d-fd44-4942-a299-d252c9761064",
   "metadata": {},
   "outputs": [
    {
     "data": {
      "text/plain": [
       "sum     6.0\n",
       "max     3.0\n",
       "mean    1.5\n",
       "Name: apples, dtype: float64"
      ]
     },
     "execution_count": 484,
     "metadata": {},
     "output_type": "execute_result"
    }
   ],
   "source": [
    "ds['apples'].agg(['sum', 'max', 'mean'])"
   ]
  },
  {
   "cell_type": "markdown",
   "id": "3382b019-5a59-4d75-b9e2-5f28e4e8bead",
   "metadata": {},
   "source": [
    "<div style=\"direction: rtl; text-align: right; font-size: 20px; color:red\">\n",
    "    وقتی بخواهی خلاصه‌ای از چند ویژگی خاص بگیری، agg() خیلی جمع‌وجور و خواناست.\n",
    "</div>"
   ]
  },
  {
   "cell_type": "markdown",
   "id": "20160d29-a6ad-4cdf-9ea3-1539fb9ee6cd",
   "metadata": {},
   "source": [
    "<div style=\"direction: rtl; text-align: right; font-size: 20px\">\n",
    "    اگه بخواهیم توابع آماری مثل مجموع,میانگین و .... برای هر گروه جدا حساب کنیم باید طبق روش زیر بریم :\n",
    "    <br>\n",
    "•    فرض کن یک ستون به‌نام category داریم که نوع داده را مشخص می‌کند.\n",
    "</div>"
   ]
  },
  {
   "cell_type": "code",
   "execution_count": 485,
   "id": "e81afa0a-69f1-4695-ae1b-3696fdee53b0",
   "metadata": {},
   "outputs": [
    {
     "name": "stdout",
     "output_type": "stream",
     "text": [
      "          apples  oranges\n",
      "category                 \n",
      "A              9       17\n",
      "B              4       10\n"
     ]
    }
   ],
   "source": [
    "do = pd.DataFrame({\n",
    "    'category': ['A', 'B', 'A', 'B'],\n",
    "    'apples': [5, 2, 4, 2],\n",
    "    'oranges': [8, 3, 9, 7]\n",
    "})\n",
    "\n",
    "grouped = do.groupby('category').sum()\n",
    "print(grouped)"
   ]
  },
  {
   "cell_type": "markdown",
   "id": "1bdcee80-edf3-4855-894b-dc931b95ec8e",
   "metadata": {},
   "source": [
    "<div style=\"direction: rtl; text-align: right; font-size: 20px\">\n",
    "•    groupby('category'): داده‌ها را بر اساس مقدار ستون category گروه‌بندی می‌کند.\n",
    "    <br>\n",
    "•    سپس تابعی مثل sum()، mean()، count() و ... روی هر گروه اجرا می‌شود.\n",
    "</div>"
   ]
  },
  {
   "cell_type": "markdown",
   "id": "6ca6c7aa-dcaf-41b7-aa34-e863a4f454b6",
   "metadata": {},
   "source": [
    "<div style=\"direction: rtl; text-align: right; font-size: 20px\">\n",
    "    چند تابع با agg() روی گروه‌ها:\n",
    "</div>"
   ]
  },
  {
   "cell_type": "code",
   "execution_count": 486,
   "id": "ebd2acd9-1f9b-4c89-8667-da21710c1df2",
   "metadata": {},
   "outputs": [
    {
     "data": {
      "text/html": [
       "<div>\n",
       "<style scoped>\n",
       "    .dataframe tbody tr th:only-of-type {\n",
       "        vertical-align: middle;\n",
       "    }\n",
       "\n",
       "    .dataframe tbody tr th {\n",
       "        vertical-align: top;\n",
       "    }\n",
       "\n",
       "    .dataframe thead th {\n",
       "        text-align: right;\n",
       "    }\n",
       "</style>\n",
       "<table border=\"1\" class=\"dataframe\">\n",
       "  <thead>\n",
       "    <tr style=\"text-align: right;\">\n",
       "      <th></th>\n",
       "      <th>apples</th>\n",
       "      <th>oranges</th>\n",
       "    </tr>\n",
       "    <tr>\n",
       "      <th>category</th>\n",
       "      <th></th>\n",
       "      <th></th>\n",
       "    </tr>\n",
       "  </thead>\n",
       "  <tbody>\n",
       "    <tr>\n",
       "      <th>A</th>\n",
       "      <td>9</td>\n",
       "      <td>8.5</td>\n",
       "    </tr>\n",
       "    <tr>\n",
       "      <th>B</th>\n",
       "      <td>4</td>\n",
       "      <td>5.0</td>\n",
       "    </tr>\n",
       "  </tbody>\n",
       "</table>\n",
       "</div>"
      ],
      "text/plain": [
       "          apples  oranges\n",
       "category                 \n",
       "A              9      8.5\n",
       "B              4      5.0"
      ]
     },
     "execution_count": 486,
     "metadata": {},
     "output_type": "execute_result"
    }
   ],
   "source": [
    "do.groupby('category').agg({\n",
    "    'apples': 'sum',\n",
    "    'oranges': 'mean'\n",
    "})"
   ]
  },
  {
   "cell_type": "markdown",
   "id": "d8f67c44-1f4b-4504-9d59-509ebe8b6846",
   "metadata": {},
   "source": [
    "<div style=\"direction: rtl; text-align: right; font-size: 20px\">\n",
    "    اگر بخواهی چند آمار مختلف روی یک ستون بگیری:\n",
    "</div>"
   ]
  },
  {
   "cell_type": "code",
   "execution_count": 487,
   "id": "4c5fd923-363f-416e-9edf-69456293bb5b",
   "metadata": {},
   "outputs": [
    {
     "data": {
      "text/html": [
       "<div>\n",
       "<style scoped>\n",
       "    .dataframe tbody tr th:only-of-type {\n",
       "        vertical-align: middle;\n",
       "    }\n",
       "\n",
       "    .dataframe tbody tr th {\n",
       "        vertical-align: top;\n",
       "    }\n",
       "\n",
       "    .dataframe thead th {\n",
       "        text-align: right;\n",
       "    }\n",
       "</style>\n",
       "<table border=\"1\" class=\"dataframe\">\n",
       "  <thead>\n",
       "    <tr style=\"text-align: right;\">\n",
       "      <th></th>\n",
       "      <th>sum</th>\n",
       "      <th>mean</th>\n",
       "      <th>max</th>\n",
       "    </tr>\n",
       "    <tr>\n",
       "      <th>category</th>\n",
       "      <th></th>\n",
       "      <th></th>\n",
       "      <th></th>\n",
       "    </tr>\n",
       "  </thead>\n",
       "  <tbody>\n",
       "    <tr>\n",
       "      <th>A</th>\n",
       "      <td>9</td>\n",
       "      <td>4.5</td>\n",
       "      <td>5</td>\n",
       "    </tr>\n",
       "    <tr>\n",
       "      <th>B</th>\n",
       "      <td>4</td>\n",
       "      <td>2.0</td>\n",
       "      <td>2</td>\n",
       "    </tr>\n",
       "  </tbody>\n",
       "</table>\n",
       "</div>"
      ],
      "text/plain": [
       "          sum  mean  max\n",
       "category                \n",
       "A           9   4.5    5\n",
       "B           4   2.0    2"
      ]
     },
     "execution_count": 487,
     "metadata": {},
     "output_type": "execute_result"
    }
   ],
   "source": [
    "do.groupby('category')['apples'].agg(['sum', 'mean', 'max'])"
   ]
  },
  {
   "cell_type": "markdown",
   "id": "f74ea00d-c136-43cc-a0c1-1038c2ede51a",
   "metadata": {},
   "source": [
    "<div style=\"direction: rtl; text-align: right; font-size: 20px\">\n",
    "◂ کاربردها:\n",
    "    <br>\n",
    "• آمار فروش بر اساس فروشنده\n",
    "    <br>\n",
    "• مجموع خرید هر مشتری\n",
    "    <br>\n",
    "• میانگین نمره بر اساس کلاس\n",
    "</div>"
   ]
  },
  {
   "cell_type": "markdown",
   "id": "3317ca57-07fb-46c0-8f7d-c0ef9e2e2c8f",
   "metadata": {},
   "source": [
    "<div style=\"direction: rtl; text-align: right; font-size: 30px\">\n",
    "    تغییر شکل جدول‌ها (reshape)\n",
    "</div>"
   ]
  },
  {
   "cell_type": "markdown",
   "id": "6e2098a9-0dc9-445c-ac8f-a2c3ca522b0a",
   "metadata": {},
   "source": [
    "<div style=\"direction: rtl; text-align: right; font-size: 20px\">\n",
    "     تبدیل داده‌ها به جدول با ردیف‌ها و ستون‌های جدید\n",
    "    <br>\n",
    "◂    تبدیل جدول از حالت طولی (Long) به حالت عریض (Wide)\n",
    "</div>"
   ]
  },
  {
   "cell_type": "code",
   "execution_count": 488,
   "id": "987376bf-c5a9-4b2c-a1c5-31c03fffde1b",
   "metadata": {},
   "outputs": [],
   "source": [
    "de = pd.DataFrame({\n",
    "    'date': ['2024-01', '2024-01', '2024-02', '2024-02'],\n",
    "    'fruit': ['apple', 'orange', 'apple', 'orange'],\n",
    "    'sales': [100, 80, 90, 70]\n",
    "})"
   ]
  },
  {
   "cell_type": "code",
   "execution_count": 489,
   "id": "5b41b1fc-a43e-4fcb-b765-9649ef740f1e",
   "metadata": {},
   "outputs": [
    {
     "data": {
      "text/html": [
       "<div>\n",
       "<style scoped>\n",
       "    .dataframe tbody tr th:only-of-type {\n",
       "        vertical-align: middle;\n",
       "    }\n",
       "\n",
       "    .dataframe tbody tr th {\n",
       "        vertical-align: top;\n",
       "    }\n",
       "\n",
       "    .dataframe thead th {\n",
       "        text-align: right;\n",
       "    }\n",
       "</style>\n",
       "<table border=\"1\" class=\"dataframe\">\n",
       "  <thead>\n",
       "    <tr style=\"text-align: right;\">\n",
       "      <th>fruit</th>\n",
       "      <th>apple</th>\n",
       "      <th>orange</th>\n",
       "    </tr>\n",
       "    <tr>\n",
       "      <th>date</th>\n",
       "      <th></th>\n",
       "      <th></th>\n",
       "    </tr>\n",
       "  </thead>\n",
       "  <tbody>\n",
       "    <tr>\n",
       "      <th>2024-01</th>\n",
       "      <td>100</td>\n",
       "      <td>80</td>\n",
       "    </tr>\n",
       "    <tr>\n",
       "      <th>2024-02</th>\n",
       "      <td>90</td>\n",
       "      <td>70</td>\n",
       "    </tr>\n",
       "  </tbody>\n",
       "</table>\n",
       "</div>"
      ],
      "text/plain": [
       "fruit    apple  orange\n",
       "date                  \n",
       "2024-01    100      80\n",
       "2024-02     90      70"
      ]
     },
     "execution_count": 489,
     "metadata": {},
     "output_type": "execute_result"
    }
   ],
   "source": [
    "de.pivot(index='date', columns='fruit', values='sales')"
   ]
  },
  {
   "cell_type": "markdown",
   "id": "92efb446-5e02-4812-9252-8ccf8db15a9f",
   "metadata": {},
   "source": [
    "<div style=\"direction: rtl; text-align: right; font-size: 20px\">\n",
    "تبدیل جدول گسترده به حالت طولی (برعکس pivot)\n",
    "    <br>\n",
    "◂ تبدیل جدول از فرمت عریض (Wide) به فرمت طولی (Long)\n",
    "</div>"
   ]
  },
  {
   "cell_type": "code",
   "execution_count": 490,
   "id": "f3475c11-a5fa-4388-b8b0-4ab0147f57d1",
   "metadata": {},
   "outputs": [
    {
     "name": "stdout",
     "output_type": "stream",
     "text": [
      "      date   fruit  sales\n",
      "0  2024-01   apple    100\n",
      "1  2024-02   apple     90\n",
      "2  2024-01  orange     80\n",
      "3  2024-02  orange     70\n"
     ]
    }
   ],
   "source": [
    "de_melted = de.pivot(index='date', columns='fruit', values='sales').reset_index()\n",
    "de_melted = de_melted.melt(id_vars='date', var_name='fruit', value_name='sales')\n",
    "print(de_melted)"
   ]
  },
  {
   "cell_type": "markdown",
   "id": "bbd758db-8890-4ff1-a106-2a38611cce11",
   "metadata": {},
   "source": [
    "<div style=\"direction: rtl; text-align: right; font-size: 15px\">\n",
    "•    id_vars : ستون‌هایی که ثابت می‌مونن (مثل تاریخ)\n",
    "    <br>\n",
    "•    var_name : اسم ستون متغیر \n",
    "    <br>\n",
    "•    value_name : اسم مقدارها\n",
    "</div>"
   ]
  },
  {
   "cell_type": "markdown",
   "id": "0d1634d4-923a-4bf2-b2dc-aa45aba14ce4",
   "metadata": {},
   "source": [
    "<div style=\"direction: rtl; text-align: right; font-size: 20px\">\n",
    "تبدیل ستون ها به سطر\n",
    "</div>"
   ]
  },
  {
   "cell_type": "code",
   "execution_count": 491,
   "id": "41fe290f-9bae-4b11-be5a-37f151b0f156",
   "metadata": {},
   "outputs": [
    {
     "data": {
      "text/plain": [
       "date     fruit        \n",
       "2024-01  apple   sales    100\n",
       "         orange  sales     80\n",
       "2024-02  apple   sales     90\n",
       "         orange  sales     70\n",
       "dtype: int64"
      ]
     },
     "execution_count": 491,
     "metadata": {},
     "output_type": "execute_result"
    }
   ],
   "source": [
    "de.set_index(['date', 'fruit']).stack()"
   ]
  },
  {
   "cell_type": "markdown",
   "id": "5cf5742e-2368-4249-a2fb-ddb5439895cb",
   "metadata": {},
   "source": [
    "<div style=\"direction: rtl; text-align: right; font-size: 20px\">\n",
    "تبدیل سطر به ستون\n",
    "</div>"
   ]
  },
  {
   "cell_type": "code",
   "execution_count": 492,
   "id": "e8addb75-35b4-4141-a26d-80a7d79c3aae",
   "metadata": {},
   "outputs": [
    {
     "data": {
      "text/html": [
       "<div>\n",
       "<style scoped>\n",
       "    .dataframe tbody tr th:only-of-type {\n",
       "        vertical-align: middle;\n",
       "    }\n",
       "\n",
       "    .dataframe tbody tr th {\n",
       "        vertical-align: top;\n",
       "    }\n",
       "\n",
       "    .dataframe thead tr th {\n",
       "        text-align: left;\n",
       "    }\n",
       "\n",
       "    .dataframe thead tr:last-of-type th {\n",
       "        text-align: right;\n",
       "    }\n",
       "</style>\n",
       "<table border=\"1\" class=\"dataframe\">\n",
       "  <thead>\n",
       "    <tr>\n",
       "      <th></th>\n",
       "      <th colspan=\"2\" halign=\"left\">sales</th>\n",
       "    </tr>\n",
       "    <tr>\n",
       "      <th>fruit</th>\n",
       "      <th>apple</th>\n",
       "      <th>orange</th>\n",
       "    </tr>\n",
       "    <tr>\n",
       "      <th>date</th>\n",
       "      <th></th>\n",
       "      <th></th>\n",
       "    </tr>\n",
       "  </thead>\n",
       "  <tbody>\n",
       "    <tr>\n",
       "      <th>2024-01</th>\n",
       "      <td>100</td>\n",
       "      <td>80</td>\n",
       "    </tr>\n",
       "    <tr>\n",
       "      <th>2024-02</th>\n",
       "      <td>90</td>\n",
       "      <td>70</td>\n",
       "    </tr>\n",
       "  </tbody>\n",
       "</table>\n",
       "</div>"
      ],
      "text/plain": [
       "        sales       \n",
       "fruit   apple orange\n",
       "date                \n",
       "2024-01   100     80\n",
       "2024-02    90     70"
      ]
     },
     "execution_count": 492,
     "metadata": {},
     "output_type": "execute_result"
    }
   ],
   "source": [
    "de.set_index(['date', 'fruit']).unstack()"
   ]
  },
  {
   "cell_type": "markdown",
   "id": "f84a8f3d-604a-4043-9666-87c8ff93b921",
   "metadata": {},
   "source": [
    "<div style=\"direction: rtl; text-align: right; font-size: 20px\">\n",
    "چرخاندن کامل جدول\n",
    "</div>"
   ]
  },
  {
   "cell_type": "code",
   "execution_count": 493,
   "id": "bea04b61-a039-495b-bfa7-d6ee7ca2c085",
   "metadata": {},
   "outputs": [
    {
     "data": {
      "text/html": [
       "<div>\n",
       "<style scoped>\n",
       "    .dataframe tbody tr th:only-of-type {\n",
       "        vertical-align: middle;\n",
       "    }\n",
       "\n",
       "    .dataframe tbody tr th {\n",
       "        vertical-align: top;\n",
       "    }\n",
       "\n",
       "    .dataframe thead th {\n",
       "        text-align: right;\n",
       "    }\n",
       "</style>\n",
       "<table border=\"1\" class=\"dataframe\">\n",
       "  <thead>\n",
       "    <tr style=\"text-align: right;\">\n",
       "      <th></th>\n",
       "      <th>0</th>\n",
       "      <th>1</th>\n",
       "      <th>2</th>\n",
       "      <th>3</th>\n",
       "    </tr>\n",
       "  </thead>\n",
       "  <tbody>\n",
       "    <tr>\n",
       "      <th>date</th>\n",
       "      <td>2024-01</td>\n",
       "      <td>2024-01</td>\n",
       "      <td>2024-02</td>\n",
       "      <td>2024-02</td>\n",
       "    </tr>\n",
       "    <tr>\n",
       "      <th>fruit</th>\n",
       "      <td>apple</td>\n",
       "      <td>orange</td>\n",
       "      <td>apple</td>\n",
       "      <td>orange</td>\n",
       "    </tr>\n",
       "    <tr>\n",
       "      <th>sales</th>\n",
       "      <td>100</td>\n",
       "      <td>80</td>\n",
       "      <td>90</td>\n",
       "      <td>70</td>\n",
       "    </tr>\n",
       "  </tbody>\n",
       "</table>\n",
       "</div>"
      ],
      "text/plain": [
       "             0        1        2        3\n",
       "date   2024-01  2024-01  2024-02  2024-02\n",
       "fruit    apple   orange    apple   orange\n",
       "sales      100       80       90       70"
      ]
     },
     "execution_count": 493,
     "metadata": {},
     "output_type": "execute_result"
    }
   ],
   "source": [
    "de.T"
   ]
  },
  {
   "cell_type": "markdown",
   "id": "4930471d-cea7-4aae-9977-22aaa8a2a8a6",
   "metadata": {},
   "source": [
    "<div style=\"direction: rtl; text-align: right; font-size: 30px\">\n",
    "مرتب‌سازی ردیف‌های جدول\n",
    "</div>"
   ]
  },
  {
   "cell_type": "markdown",
   "id": "f74708d2-2b1b-4af2-94cd-d8f52149814a",
   "metadata": {},
   "source": [
    "<div style=\"direction: rtl; text-align: right; font-size: 20px\">\n",
    "وقتی می‌خوای داده‌ها رو براساس مقدار یک ستون مرتب کنی \n",
    "</div>"
   ]
  },
  {
   "cell_type": "code",
   "execution_count": 494,
   "id": "0e3967d5-3ee9-4bb1-824b-ee0e5124d02e",
   "metadata": {},
   "outputs": [
    {
     "data": {
      "text/html": [
       "<div>\n",
       "<style scoped>\n",
       "    .dataframe tbody tr th:only-of-type {\n",
       "        vertical-align: middle;\n",
       "    }\n",
       "\n",
       "    .dataframe tbody tr th {\n",
       "        vertical-align: top;\n",
       "    }\n",
       "\n",
       "    .dataframe thead th {\n",
       "        text-align: right;\n",
       "    }\n",
       "</style>\n",
       "<table border=\"1\" class=\"dataframe\">\n",
       "  <thead>\n",
       "    <tr style=\"text-align: right;\">\n",
       "      <th></th>\n",
       "      <th>date</th>\n",
       "      <th>fruit</th>\n",
       "      <th>sales</th>\n",
       "    </tr>\n",
       "  </thead>\n",
       "  <tbody>\n",
       "    <tr>\n",
       "      <th>3</th>\n",
       "      <td>2024-02</td>\n",
       "      <td>orange</td>\n",
       "      <td>70</td>\n",
       "    </tr>\n",
       "    <tr>\n",
       "      <th>1</th>\n",
       "      <td>2024-01</td>\n",
       "      <td>orange</td>\n",
       "      <td>80</td>\n",
       "    </tr>\n",
       "    <tr>\n",
       "      <th>2</th>\n",
       "      <td>2024-02</td>\n",
       "      <td>apple</td>\n",
       "      <td>90</td>\n",
       "    </tr>\n",
       "    <tr>\n",
       "      <th>0</th>\n",
       "      <td>2024-01</td>\n",
       "      <td>apple</td>\n",
       "      <td>100</td>\n",
       "    </tr>\n",
       "  </tbody>\n",
       "</table>\n",
       "</div>"
      ],
      "text/plain": [
       "      date   fruit  sales\n",
       "3  2024-02  orange     70\n",
       "1  2024-01  orange     80\n",
       "2  2024-02   apple     90\n",
       "0  2024-01   apple    100"
      ]
     },
     "execution_count": 494,
     "metadata": {},
     "output_type": "execute_result"
    }
   ],
   "source": [
    "de.sort_values(by='sales')"
   ]
  },
  {
   "cell_type": "markdown",
   "id": "ef6cf47a-1249-4214-9871-d7bca2d922b9",
   "metadata": {},
   "source": [
    "<div style=\"direction: rtl; text-align: right; font-size: 15px\">\n",
    "•    پیش‌فرض: از کوچک به بزرگ (ascending=True)\n",
    "    <br>\n",
    "• می‌تونی برعکسش کنی:\n",
    "</div>"
   ]
  },
  {
   "cell_type": "code",
   "execution_count": 495,
   "id": "7aa85eb4-688f-49ec-8849-3a3eb40c72df",
   "metadata": {},
   "outputs": [
    {
     "data": {
      "text/html": [
       "<div>\n",
       "<style scoped>\n",
       "    .dataframe tbody tr th:only-of-type {\n",
       "        vertical-align: middle;\n",
       "    }\n",
       "\n",
       "    .dataframe tbody tr th {\n",
       "        vertical-align: top;\n",
       "    }\n",
       "\n",
       "    .dataframe thead th {\n",
       "        text-align: right;\n",
       "    }\n",
       "</style>\n",
       "<table border=\"1\" class=\"dataframe\">\n",
       "  <thead>\n",
       "    <tr style=\"text-align: right;\">\n",
       "      <th></th>\n",
       "      <th>date</th>\n",
       "      <th>fruit</th>\n",
       "      <th>sales</th>\n",
       "    </tr>\n",
       "  </thead>\n",
       "  <tbody>\n",
       "    <tr>\n",
       "      <th>0</th>\n",
       "      <td>2024-01</td>\n",
       "      <td>apple</td>\n",
       "      <td>100</td>\n",
       "    </tr>\n",
       "    <tr>\n",
       "      <th>2</th>\n",
       "      <td>2024-02</td>\n",
       "      <td>apple</td>\n",
       "      <td>90</td>\n",
       "    </tr>\n",
       "    <tr>\n",
       "      <th>1</th>\n",
       "      <td>2024-01</td>\n",
       "      <td>orange</td>\n",
       "      <td>80</td>\n",
       "    </tr>\n",
       "    <tr>\n",
       "      <th>3</th>\n",
       "      <td>2024-02</td>\n",
       "      <td>orange</td>\n",
       "      <td>70</td>\n",
       "    </tr>\n",
       "  </tbody>\n",
       "</table>\n",
       "</div>"
      ],
      "text/plain": [
       "      date   fruit  sales\n",
       "0  2024-01   apple    100\n",
       "2  2024-02   apple     90\n",
       "1  2024-01  orange     80\n",
       "3  2024-02  orange     70"
      ]
     },
     "execution_count": 495,
     "metadata": {},
     "output_type": "execute_result"
    }
   ],
   "source": [
    "de.sort_values(by='sales', ascending=False)"
   ]
  },
  {
   "cell_type": "markdown",
   "id": "9856ce16-ca9a-4e3a-abd6-df40a60e6ff3",
   "metadata": {},
   "source": [
    "<div style=\"direction: rtl; text-align: right; font-size: 20px\">\n",
    "مرتب‌سازی با چند ستون\n",
    "</div>"
   ]
  },
  {
   "cell_type": "code",
   "execution_count": 496,
   "id": "2afc3cfd-5f10-45ca-b921-e86c684c522c",
   "metadata": {},
   "outputs": [
    {
     "data": {
      "text/html": [
       "<div>\n",
       "<style scoped>\n",
       "    .dataframe tbody tr th:only-of-type {\n",
       "        vertical-align: middle;\n",
       "    }\n",
       "\n",
       "    .dataframe tbody tr th {\n",
       "        vertical-align: top;\n",
       "    }\n",
       "\n",
       "    .dataframe thead th {\n",
       "        text-align: right;\n",
       "    }\n",
       "</style>\n",
       "<table border=\"1\" class=\"dataframe\">\n",
       "  <thead>\n",
       "    <tr style=\"text-align: right;\">\n",
       "      <th></th>\n",
       "      <th>date</th>\n",
       "      <th>fruit</th>\n",
       "      <th>sales</th>\n",
       "    </tr>\n",
       "  </thead>\n",
       "  <tbody>\n",
       "    <tr>\n",
       "      <th>0</th>\n",
       "      <td>2024-01</td>\n",
       "      <td>apple</td>\n",
       "      <td>100</td>\n",
       "    </tr>\n",
       "    <tr>\n",
       "      <th>2</th>\n",
       "      <td>2024-02</td>\n",
       "      <td>apple</td>\n",
       "      <td>90</td>\n",
       "    </tr>\n",
       "    <tr>\n",
       "      <th>1</th>\n",
       "      <td>2024-01</td>\n",
       "      <td>orange</td>\n",
       "      <td>80</td>\n",
       "    </tr>\n",
       "    <tr>\n",
       "      <th>3</th>\n",
       "      <td>2024-02</td>\n",
       "      <td>orange</td>\n",
       "      <td>70</td>\n",
       "    </tr>\n",
       "  </tbody>\n",
       "</table>\n",
       "</div>"
      ],
      "text/plain": [
       "      date   fruit  sales\n",
       "0  2024-01   apple    100\n",
       "2  2024-02   apple     90\n",
       "1  2024-01  orange     80\n",
       "3  2024-02  orange     70"
      ]
     },
     "execution_count": 496,
     "metadata": {},
     "output_type": "execute_result"
    }
   ],
   "source": [
    "de.sort_values(by=['fruit', 'sales'], ascending=[True, False])"
   ]
  },
  {
   "cell_type": "markdown",
   "id": "727cde5d-7443-4b5a-8137-5e900a202927",
   "metadata": {},
   "source": [
    "<div style=\"direction: rtl; text-align: right; font-size: 17px\">\n",
    "• این یعنی اول بر اساس fruit، بعد برای هر میوه بر اساس sales به صورت نزولی.\n",
    "</div>"
   ]
  },
  {
   "cell_type": "markdown",
   "id": "35549375-578f-4eab-81b3-96ad574b437b",
   "metadata": {},
   "source": [
    "<div style=\"direction: rtl; text-align: right; font-size: 20px\">\n",
    "مرتب‌سازی بر اساس ایندکس\n",
    "</div>"
   ]
  },
  {
   "cell_type": "code",
   "execution_count": 497,
   "id": "42283eab-27ed-4f48-9e56-abd2173bac52",
   "metadata": {},
   "outputs": [
    {
     "data": {
      "text/html": [
       "<div>\n",
       "<style scoped>\n",
       "    .dataframe tbody tr th:only-of-type {\n",
       "        vertical-align: middle;\n",
       "    }\n",
       "\n",
       "    .dataframe tbody tr th {\n",
       "        vertical-align: top;\n",
       "    }\n",
       "\n",
       "    .dataframe thead th {\n",
       "        text-align: right;\n",
       "    }\n",
       "</style>\n",
       "<table border=\"1\" class=\"dataframe\">\n",
       "  <thead>\n",
       "    <tr style=\"text-align: right;\">\n",
       "      <th></th>\n",
       "      <th>date</th>\n",
       "      <th>fruit</th>\n",
       "      <th>sales</th>\n",
       "    </tr>\n",
       "  </thead>\n",
       "  <tbody>\n",
       "    <tr>\n",
       "      <th>0</th>\n",
       "      <td>2024-01</td>\n",
       "      <td>apple</td>\n",
       "      <td>100</td>\n",
       "    </tr>\n",
       "    <tr>\n",
       "      <th>1</th>\n",
       "      <td>2024-01</td>\n",
       "      <td>orange</td>\n",
       "      <td>80</td>\n",
       "    </tr>\n",
       "    <tr>\n",
       "      <th>2</th>\n",
       "      <td>2024-02</td>\n",
       "      <td>apple</td>\n",
       "      <td>90</td>\n",
       "    </tr>\n",
       "    <tr>\n",
       "      <th>3</th>\n",
       "      <td>2024-02</td>\n",
       "      <td>orange</td>\n",
       "      <td>70</td>\n",
       "    </tr>\n",
       "  </tbody>\n",
       "</table>\n",
       "</div>"
      ],
      "text/plain": [
       "      date   fruit  sales\n",
       "0  2024-01   apple    100\n",
       "1  2024-01  orange     80\n",
       "2  2024-02   apple     90\n",
       "3  2024-02  orange     70"
      ]
     },
     "execution_count": 497,
     "metadata": {},
     "output_type": "execute_result"
    }
   ],
   "source": [
    "de.sort_index()"
   ]
  },
  {
   "cell_type": "code",
   "execution_count": 498,
   "id": "39d2cc87-0ef6-4e09-b3be-13f74119a44b",
   "metadata": {},
   "outputs": [
    {
     "data": {
      "text/html": [
       "<div>\n",
       "<style scoped>\n",
       "    .dataframe tbody tr th:only-of-type {\n",
       "        vertical-align: middle;\n",
       "    }\n",
       "\n",
       "    .dataframe tbody tr th {\n",
       "        vertical-align: top;\n",
       "    }\n",
       "\n",
       "    .dataframe thead th {\n",
       "        text-align: right;\n",
       "    }\n",
       "</style>\n",
       "<table border=\"1\" class=\"dataframe\">\n",
       "  <thead>\n",
       "    <tr style=\"text-align: right;\">\n",
       "      <th></th>\n",
       "      <th>date</th>\n",
       "      <th>fruit</th>\n",
       "      <th>sales</th>\n",
       "    </tr>\n",
       "  </thead>\n",
       "  <tbody>\n",
       "    <tr>\n",
       "      <th>3</th>\n",
       "      <td>2024-02</td>\n",
       "      <td>orange</td>\n",
       "      <td>70</td>\n",
       "    </tr>\n",
       "    <tr>\n",
       "      <th>2</th>\n",
       "      <td>2024-02</td>\n",
       "      <td>apple</td>\n",
       "      <td>90</td>\n",
       "    </tr>\n",
       "    <tr>\n",
       "      <th>1</th>\n",
       "      <td>2024-01</td>\n",
       "      <td>orange</td>\n",
       "      <td>80</td>\n",
       "    </tr>\n",
       "    <tr>\n",
       "      <th>0</th>\n",
       "      <td>2024-01</td>\n",
       "      <td>apple</td>\n",
       "      <td>100</td>\n",
       "    </tr>\n",
       "  </tbody>\n",
       "</table>\n",
       "</div>"
      ],
      "text/plain": [
       "      date   fruit  sales\n",
       "3  2024-02  orange     70\n",
       "2  2024-02   apple     90\n",
       "1  2024-01  orange     80\n",
       "0  2024-01   apple    100"
      ]
     },
     "execution_count": 498,
     "metadata": {},
     "output_type": "execute_result"
    }
   ],
   "source": [
    "# یا برعکس\n",
    "de.sort_index(ascending=False)"
   ]
  },
  {
   "cell_type": "markdown",
   "id": "2cd77043-c830-40ef-9bf3-9a768c7fd189",
   "metadata": {},
   "source": [
    "<div style=\"direction: rtl; text-align: right; font-size: 20px\">\n",
    " inplace\n",
    "    <br>\n",
    "•    برای اعمال تغییر در خود DataFrame (بدون ساخت کپی جدید):\n",
    "</div>"
   ]
  },
  {
   "cell_type": "code",
   "execution_count": 499,
   "id": "dc676941-b929-4300-bd2f-9462d9a88cb3",
   "metadata": {},
   "outputs": [],
   "source": [
    "de.sort_values(by='sales', inplace=True)"
   ]
  },
  {
   "cell_type": "markdown",
   "id": "456170ed-cddf-4b9c-8d17-7e6273851872",
   "metadata": {},
   "source": [
    "<div style=\"direction: rtl; text-align: right; font-size: 30px\">\n",
    "Pivot Table در Pandas\n",
    "</div>"
   ]
  },
  {
   "cell_type": "markdown",
   "id": "7f0cfcd0-6442-4cd5-981b-74b32401d8d5",
   "metadata": {},
   "source": [
    "<div style=\"direction: rtl; text-align: right; font-size: 20px\">\n",
    "Pivot Table خیلی شبیه به Pivot Table در Excel عمل می‌کنه. برای خلاصه‌سازی، گروه‌بندی و محاسبه آمار روی داده‌ها استفاده می‌شه.\n",
    "</div>"
   ]
  },
  {
   "cell_type": "code",
   "execution_count": 500,
   "id": "abb9013d-5ff0-4830-9ef1-40233c603ca2",
   "metadata": {},
   "outputs": [
    {
     "name": "stdout",
     "output_type": "stream",
     "text": [
      "fruit    apple  orange\n",
      "date                  \n",
      "2024-01    100      80\n",
      "2024-02     90      70\n"
     ]
    }
   ],
   "source": [
    "pt = de.pivot_table(index='date', columns='fruit', values='sales', aggfunc='sum')\n",
    "print(pt)"
   ]
  },
  {
   "cell_type": "markdown",
   "id": "9f031ef1-faef-44cf-81af-f9649e54d5f1",
   "metadata": {},
   "source": [
    "<div style=\"direction: rtl; text-align: right; font-size: 20px\">\n",
    " مثال با چند تابع تجمیعی\n",
    "</div>"
   ]
  },
  {
   "cell_type": "code",
   "execution_count": 501,
   "id": "8e448fa9-ef3d-4a87-bf0e-c0a45204b0f0",
   "metadata": {},
   "outputs": [
    {
     "data": {
      "text/html": [
       "<div>\n",
       "<style scoped>\n",
       "    .dataframe tbody tr th:only-of-type {\n",
       "        vertical-align: middle;\n",
       "    }\n",
       "\n",
       "    .dataframe tbody tr th {\n",
       "        vertical-align: top;\n",
       "    }\n",
       "\n",
       "    .dataframe thead tr th {\n",
       "        text-align: left;\n",
       "    }\n",
       "\n",
       "    .dataframe thead tr:last-of-type th {\n",
       "        text-align: right;\n",
       "    }\n",
       "</style>\n",
       "<table border=\"1\" class=\"dataframe\">\n",
       "  <thead>\n",
       "    <tr>\n",
       "      <th></th>\n",
       "      <th>sum</th>\n",
       "      <th>max</th>\n",
       "    </tr>\n",
       "    <tr>\n",
       "      <th></th>\n",
       "      <th>sales</th>\n",
       "      <th>sales</th>\n",
       "    </tr>\n",
       "    <tr>\n",
       "      <th>fruit</th>\n",
       "      <th></th>\n",
       "      <th></th>\n",
       "    </tr>\n",
       "  </thead>\n",
       "  <tbody>\n",
       "    <tr>\n",
       "      <th>apple</th>\n",
       "      <td>190</td>\n",
       "      <td>100</td>\n",
       "    </tr>\n",
       "    <tr>\n",
       "      <th>orange</th>\n",
       "      <td>150</td>\n",
       "      <td>80</td>\n",
       "    </tr>\n",
       "  </tbody>\n",
       "</table>\n",
       "</div>"
      ],
      "text/plain": [
       "         sum   max\n",
       "       sales sales\n",
       "fruit             \n",
       "apple    190   100\n",
       "orange   150    80"
      ]
     },
     "execution_count": 501,
     "metadata": {},
     "output_type": "execute_result"
    }
   ],
   "source": [
    "de.pivot_table(index='fruit', values='sales', aggfunc=['sum', 'max'])"
   ]
  },
  {
   "cell_type": "markdown",
   "id": "cb2ea0ab-575e-4591-be71-8632729dacbd",
   "metadata": {},
   "source": [
    "<div style=\"direction: rtl; text-align: right; font-size: 30px\">\n",
    "ترکیب (combine) داده‌فریم‌ها \n",
    "\n",
    "</div>"
   ]
  },
  {
   "cell_type": "markdown",
   "id": "d0a3a877-67f9-4e07-b71b-699d076614db",
   "metadata": {},
   "source": [
    "<div style=\"direction: rtl; text-align: right; font-size: 25px\">\n",
    "    چسباندن داده‌فریم‌ها\n",
    "</div>"
   ]
  },
  {
   "cell_type": "code",
   "execution_count": 502,
   "id": "1028eebe-88fc-48b9-8a13-7ab02b012da5",
   "metadata": {},
   "outputs": [
    {
     "data": {
      "text/html": [
       "<div>\n",
       "<style scoped>\n",
       "    .dataframe tbody tr th:only-of-type {\n",
       "        vertical-align: middle;\n",
       "    }\n",
       "\n",
       "    .dataframe tbody tr th {\n",
       "        vertical-align: top;\n",
       "    }\n",
       "\n",
       "    .dataframe thead th {\n",
       "        text-align: right;\n",
       "    }\n",
       "</style>\n",
       "<table border=\"1\" class=\"dataframe\">\n",
       "  <thead>\n",
       "    <tr style=\"text-align: right;\">\n",
       "      <th></th>\n",
       "      <th>A</th>\n",
       "      <th>B</th>\n",
       "    </tr>\n",
       "  </thead>\n",
       "  <tbody>\n",
       "    <tr>\n",
       "      <th>0</th>\n",
       "      <td>A0</td>\n",
       "      <td>B0</td>\n",
       "    </tr>\n",
       "    <tr>\n",
       "      <th>1</th>\n",
       "      <td>A1</td>\n",
       "      <td>B1</td>\n",
       "    </tr>\n",
       "    <tr>\n",
       "      <th>0</th>\n",
       "      <td>A2</td>\n",
       "      <td>B2</td>\n",
       "    </tr>\n",
       "    <tr>\n",
       "      <th>1</th>\n",
       "      <td>A3</td>\n",
       "      <td>B3</td>\n",
       "    </tr>\n",
       "  </tbody>\n",
       "</table>\n",
       "</div>"
      ],
      "text/plain": [
       "    A   B\n",
       "0  A0  B0\n",
       "1  A1  B1\n",
       "0  A2  B2\n",
       "1  A3  B3"
      ]
     },
     "execution_count": 502,
     "metadata": {},
     "output_type": "execute_result"
    }
   ],
   "source": [
    "df1 = pd.DataFrame({'A': ['A0', 'A1'], 'B': ['B0', 'B1']})\n",
    "df2 = pd.DataFrame({'A': ['A2', 'A3'], 'B': ['B2', 'B3']})\n",
    "\n",
    "pd.concat([df1, df2])"
   ]
  },
  {
   "cell_type": "markdown",
   "id": "5fdb6fab-2473-4d53-8510-c26476248d97",
   "metadata": {},
   "source": [
    "<div style=\"direction: rtl; text-align: right; font-size: 20px; color:red\">\n",
    "    می‌بینی که ایندکس‌ها تکراری شدند. برای اینکه ایندکس‌ها پشت‌سر‌هم باشند:\n",
    "</div>"
   ]
  },
  {
   "cell_type": "code",
   "execution_count": 503,
   "id": "764056b6-76ab-413a-b967-2496c675ffb0",
   "metadata": {},
   "outputs": [
    {
     "data": {
      "text/html": [
       "<div>\n",
       "<style scoped>\n",
       "    .dataframe tbody tr th:only-of-type {\n",
       "        vertical-align: middle;\n",
       "    }\n",
       "\n",
       "    .dataframe tbody tr th {\n",
       "        vertical-align: top;\n",
       "    }\n",
       "\n",
       "    .dataframe thead th {\n",
       "        text-align: right;\n",
       "    }\n",
       "</style>\n",
       "<table border=\"1\" class=\"dataframe\">\n",
       "  <thead>\n",
       "    <tr style=\"text-align: right;\">\n",
       "      <th></th>\n",
       "      <th>A</th>\n",
       "      <th>B</th>\n",
       "    </tr>\n",
       "  </thead>\n",
       "  <tbody>\n",
       "    <tr>\n",
       "      <th>0</th>\n",
       "      <td>A0</td>\n",
       "      <td>B0</td>\n",
       "    </tr>\n",
       "    <tr>\n",
       "      <th>1</th>\n",
       "      <td>A1</td>\n",
       "      <td>B1</td>\n",
       "    </tr>\n",
       "    <tr>\n",
       "      <th>2</th>\n",
       "      <td>A2</td>\n",
       "      <td>B2</td>\n",
       "    </tr>\n",
       "    <tr>\n",
       "      <th>3</th>\n",
       "      <td>A3</td>\n",
       "      <td>B3</td>\n",
       "    </tr>\n",
       "  </tbody>\n",
       "</table>\n",
       "</div>"
      ],
      "text/plain": [
       "    A   B\n",
       "0  A0  B0\n",
       "1  A1  B1\n",
       "2  A2  B2\n",
       "3  A3  B3"
      ]
     },
     "execution_count": 503,
     "metadata": {},
     "output_type": "execute_result"
    }
   ],
   "source": [
    "pd.concat([df1, df2], ignore_index=True)"
   ]
  },
  {
   "cell_type": "markdown",
   "id": "8a40c166-e866-456e-bfa7-4f09534b7b66",
   "metadata": {},
   "source": [
    "<div style=\"direction: rtl; text-align: right; font-size: 20px\">\n",
    "    پیش‌فرض axis=0 است، یعنی داده‌ها به صورت عمودی چسبانده می‌شوند.\n",
    "    <br>\n",
    "    اگر بخواهی به صورت افقی ترکیب کنی:\n",
    "</div>"
   ]
  },
  {
   "cell_type": "raw",
   "id": "8f3ee6c9-4f69-45ac-93de-0729cf7ded0e",
   "metadata": {},
   "source": [
    "pd.concat([df1, df2], axis=1)"
   ]
  },
  {
   "cell_type": "markdown",
   "id": "43348c14-ca3a-44f7-9e89-401a7be064d9",
   "metadata": {},
   "source": [
    "<div style=\"direction: rtl; text-align: right; font-size: 25px\">\n",
    "    ترکیب بر اساس ستون‌های مشترک (مثل JOIN در SQL)\n",
    "</div>"
   ]
  },
  {
   "cell_type": "code",
   "execution_count": 504,
   "id": "20d18451-5956-4016-9092-73f8c4dacdbe",
   "metadata": {},
   "outputs": [
    {
     "data": {
      "text/html": [
       "<div>\n",
       "<style scoped>\n",
       "    .dataframe tbody tr th:only-of-type {\n",
       "        vertical-align: middle;\n",
       "    }\n",
       "\n",
       "    .dataframe tbody tr th {\n",
       "        vertical-align: top;\n",
       "    }\n",
       "\n",
       "    .dataframe thead th {\n",
       "        text-align: right;\n",
       "    }\n",
       "</style>\n",
       "<table border=\"1\" class=\"dataframe\">\n",
       "  <thead>\n",
       "    <tr style=\"text-align: right;\">\n",
       "      <th></th>\n",
       "      <th>key</th>\n",
       "      <th>A</th>\n",
       "      <th>B</th>\n",
       "      <th>C</th>\n",
       "      <th>D</th>\n",
       "    </tr>\n",
       "  </thead>\n",
       "  <tbody>\n",
       "    <tr>\n",
       "      <th>0</th>\n",
       "      <td>K0</td>\n",
       "      <td>A0</td>\n",
       "      <td>B0</td>\n",
       "      <td>C0</td>\n",
       "      <td>D0</td>\n",
       "    </tr>\n",
       "    <tr>\n",
       "      <th>1</th>\n",
       "      <td>K1</td>\n",
       "      <td>A1</td>\n",
       "      <td>B1</td>\n",
       "      <td>C1</td>\n",
       "      <td>D1</td>\n",
       "    </tr>\n",
       "    <tr>\n",
       "      <th>2</th>\n",
       "      <td>K2</td>\n",
       "      <td>A2</td>\n",
       "      <td>B2</td>\n",
       "      <td>C2</td>\n",
       "      <td>D2</td>\n",
       "    </tr>\n",
       "  </tbody>\n",
       "</table>\n",
       "</div>"
      ],
      "text/plain": [
       "  key   A   B   C   D\n",
       "0  K0  A0  B0  C0  D0\n",
       "1  K1  A1  B1  C1  D1\n",
       "2  K2  A2  B2  C2  D2"
      ]
     },
     "execution_count": 504,
     "metadata": {},
     "output_type": "execute_result"
    }
   ],
   "source": [
    "df1 = pd.DataFrame({\n",
    "    'key': ['K0', 'K1', 'K2', 'K3'],\n",
    "    'A': ['A0', 'A1', 'A2', 'A3'],\n",
    "    'B': ['B0', 'B1', 'B2', 'B3']\n",
    "})\n",
    "\n",
    "df2 = pd.DataFrame({\n",
    "    'key': ['K0', 'K1', 'K2', 'K4'],\n",
    "    'C': ['C0', 'C1', 'C2', 'C4'],\n",
    "    'D': ['D0', 'D1', 'D2', 'D4']\n",
    "})\n",
    "\n",
    "pd.merge(df1, df2, on='key')"
   ]
  },
  {
   "cell_type": "markdown",
   "id": "cab0b7a5-1fab-46db-a380-66a13f9f46c3",
   "metadata": {},
   "source": [
    "<div style=\"direction: rtl; text-align: right; font-size: 20px\">\n",
    "•داده‌ها بر اساس مقدار ستون 'key' که در هر دو جدول هست با هم جفت می‌شوند.\n",
    "    <br>\n",
    "•فقط ردیف‌هایی که 'key' در هر دو DataFrame وجود دارد باقی می‌مانند. این حالت پیش‌فرض است و به آن inner join می‌گویند.\n",
    "</div>"
   ]
  },
  {
   "cell_type": "markdown",
   "id": "be939792-0a82-4cbb-9d0d-4305bb987e8d",
   "metadata": {},
   "source": [
    "<div style=\"direction: rtl; text-align: right; font-size: 20px\">\n",
    "     حالت‌های دیگر با how= :\n",
    "</div>"
   ]
  },
  {
   "cell_type": "markdown",
   "id": "dccef97a-ae2a-433c-b61d-2fa53974ae10",
   "metadata": {},
   "source": [
    "<div style=\"direction: rtl; text-align: right; font-size: 20px\">\n",
    "• 'inner' ---> فقط کلیدهای مشترک (پیش‌فرض)\n",
    "    <br>\n",
    "• 'outer' ---> همه کلیدها از هر دو جدول\n",
    "    <br>\n",
    "• 'left' ---> فقط کلیدهای df1، داده از df2 در صورت وجود\n",
    "    <br>\n",
    "• 'right' ---> فقط کلیدهای df2، داده از df1 در صورت وجود\n",
    "</div>"
   ]
  },
  {
   "cell_type": "code",
   "execution_count": 505,
   "id": "71b2d437-3e40-4d68-873e-ee7ba22b8a4f",
   "metadata": {},
   "outputs": [
    {
     "data": {
      "text/html": [
       "<div>\n",
       "<style scoped>\n",
       "    .dataframe tbody tr th:only-of-type {\n",
       "        vertical-align: middle;\n",
       "    }\n",
       "\n",
       "    .dataframe tbody tr th {\n",
       "        vertical-align: top;\n",
       "    }\n",
       "\n",
       "    .dataframe thead th {\n",
       "        text-align: right;\n",
       "    }\n",
       "</style>\n",
       "<table border=\"1\" class=\"dataframe\">\n",
       "  <thead>\n",
       "    <tr style=\"text-align: right;\">\n",
       "      <th></th>\n",
       "      <th>key</th>\n",
       "      <th>A</th>\n",
       "      <th>B</th>\n",
       "      <th>C</th>\n",
       "      <th>D</th>\n",
       "    </tr>\n",
       "  </thead>\n",
       "  <tbody>\n",
       "    <tr>\n",
       "      <th>0</th>\n",
       "      <td>K0</td>\n",
       "      <td>A0</td>\n",
       "      <td>B0</td>\n",
       "      <td>C0</td>\n",
       "      <td>D0</td>\n",
       "    </tr>\n",
       "    <tr>\n",
       "      <th>1</th>\n",
       "      <td>K1</td>\n",
       "      <td>A1</td>\n",
       "      <td>B1</td>\n",
       "      <td>C1</td>\n",
       "      <td>D1</td>\n",
       "    </tr>\n",
       "    <tr>\n",
       "      <th>2</th>\n",
       "      <td>K2</td>\n",
       "      <td>A2</td>\n",
       "      <td>B2</td>\n",
       "      <td>C2</td>\n",
       "      <td>D2</td>\n",
       "    </tr>\n",
       "    <tr>\n",
       "      <th>3</th>\n",
       "      <td>K3</td>\n",
       "      <td>A3</td>\n",
       "      <td>B3</td>\n",
       "      <td>NaN</td>\n",
       "      <td>NaN</td>\n",
       "    </tr>\n",
       "    <tr>\n",
       "      <th>4</th>\n",
       "      <td>K4</td>\n",
       "      <td>NaN</td>\n",
       "      <td>NaN</td>\n",
       "      <td>C4</td>\n",
       "      <td>D4</td>\n",
       "    </tr>\n",
       "  </tbody>\n",
       "</table>\n",
       "</div>"
      ],
      "text/plain": [
       "  key    A    B    C    D\n",
       "0  K0   A0   B0   C0   D0\n",
       "1  K1   A1   B1   C1   D1\n",
       "2  K2   A2   B2   C2   D2\n",
       "3  K3   A3   B3  NaN  NaN\n",
       "4  K4  NaN  NaN   C4   D4"
      ]
     },
     "execution_count": 505,
     "metadata": {},
     "output_type": "execute_result"
    }
   ],
   "source": [
    "pd.merge(df1, df2, on='key', how='outer')"
   ]
  },
  {
   "cell_type": "markdown",
   "id": "9ac99209-693b-4585-85b9-45046e8b47d4",
   "metadata": {},
   "source": [
    "<div style=\"direction: rtl; text-align: right; font-size: 25px\">\n",
    "     اتصال با ایندکس یا ستون\n",
    "</div>"
   ]
  },
  {
   "cell_type": "code",
   "execution_count": 506,
   "id": "bdaf98d6-6465-405c-992b-b8d13f7fd6ab",
   "metadata": {},
   "outputs": [
    {
     "data": {
      "text/html": [
       "<div>\n",
       "<style scoped>\n",
       "    .dataframe tbody tr th:only-of-type {\n",
       "        vertical-align: middle;\n",
       "    }\n",
       "\n",
       "    .dataframe tbody tr th {\n",
       "        vertical-align: top;\n",
       "    }\n",
       "\n",
       "    .dataframe thead th {\n",
       "        text-align: right;\n",
       "    }\n",
       "</style>\n",
       "<table border=\"1\" class=\"dataframe\">\n",
       "  <thead>\n",
       "    <tr style=\"text-align: right;\">\n",
       "      <th></th>\n",
       "      <th>A</th>\n",
       "      <th>B</th>\n",
       "    </tr>\n",
       "  </thead>\n",
       "  <tbody>\n",
       "    <tr>\n",
       "      <th>K0</th>\n",
       "      <td>A0</td>\n",
       "      <td>B0</td>\n",
       "    </tr>\n",
       "    <tr>\n",
       "      <th>K1</th>\n",
       "      <td>A1</td>\n",
       "      <td>NaN</td>\n",
       "    </tr>\n",
       "    <tr>\n",
       "      <th>K2</th>\n",
       "      <td>NaN</td>\n",
       "      <td>B1</td>\n",
       "    </tr>\n",
       "  </tbody>\n",
       "</table>\n",
       "</div>"
      ],
      "text/plain": [
       "      A    B\n",
       "K0   A0   B0\n",
       "K1   A1  NaN\n",
       "K2  NaN   B1"
      ]
     },
     "execution_count": 506,
     "metadata": {},
     "output_type": "execute_result"
    }
   ],
   "source": [
    "left = pd.DataFrame({'A': ['A0', 'A1']}, index=['K0', 'K1'])\n",
    "right = pd.DataFrame({'B': ['B0', 'B1']}, index=['K0', 'K2'])\n",
    "\n",
    "left.join(right, how='outer')"
   ]
  },
  {
   "cell_type": "markdown",
   "id": "f550cd8d-fc8c-4dda-a23f-12c8207dd282",
   "metadata": {},
   "source": [
    "<div style=\"direction: rtl; text-align: right; font-size: 20px\">\n",
    "    شبیه merge است ولی بر اساس ایندکس عمل می‌کند.\n",
    "    <br>\n",
    "    how می‌تواند 'left', 'right', 'outer', 'inner' باشد.\n",
    "</div>"
   ]
  },
  {
   "cell_type": "markdown",
   "id": "9a359392-6595-48b7-ba35-fae443d13727",
   "metadata": {},
   "source": [
    "<div style=\"direction: rtl; text-align: right; font-size: 30px\">\n",
    "    کار با داده‌های متنی (Text Data)\n",
    "</div>"
   ]
  },
  {
   "cell_type": "markdown",
   "id": "6633fe46-ec16-47a3-baf2-a68f8275d5a3",
   "metadata": {},
   "source": [
    "<div style=\"direction: rtl; text-align: right; font-size: 25px\">\n",
    "عملیات متنی (String Methods)\n",
    "</div>"
   ]
  },
  {
   "cell_type": "code",
   "execution_count": 507,
   "id": "872788e7-37d6-485b-891c-3b37c7fd562c",
   "metadata": {},
   "outputs": [],
   "source": [
    "lol = pd.Series(['Gol', 'ml', 'iran', 'linux', 'Jedi', 'Python'])"
   ]
  },
  {
   "cell_type": "markdown",
   "id": "1dc3505f-55db-4068-bddc-b619ea44731d",
   "metadata": {},
   "source": [
    "<div style=\"direction: rtl; text-align: right; font-size: 20px\">\n",
    " ◂   حروف ها رو کوچیک میکنه\n",
    "</div>"
   ]
  },
  {
   "cell_type": "code",
   "execution_count": 508,
   "id": "d1e2d3b7-4abb-451c-90a7-a1bc6c531be1",
   "metadata": {},
   "outputs": [
    {
     "data": {
      "text/plain": [
       "0       gol\n",
       "1        ml\n",
       "2      iran\n",
       "3     linux\n",
       "4      jedi\n",
       "5    python\n",
       "dtype: object"
      ]
     },
     "execution_count": 508,
     "metadata": {},
     "output_type": "execute_result"
    }
   ],
   "source": [
    "lol.str.lower()"
   ]
  },
  {
   "cell_type": "markdown",
   "id": "f41c1d81-9ca6-4a1a-b449-39c88de9861d",
   "metadata": {},
   "source": [
    "<div style=\"direction: rtl; text-align: right; font-size: 20px\">\n",
    "◂حروف ها رو بزرگ میکنه\n",
    "</div>"
   ]
  },
  {
   "cell_type": "code",
   "execution_count": 509,
   "id": "c58d3d81-fee7-4381-b0bf-d0c6fca38992",
   "metadata": {},
   "outputs": [
    {
     "data": {
      "text/plain": [
       "0       GOL\n",
       "1        ML\n",
       "2      IRAN\n",
       "3     LINUX\n",
       "4      JEDI\n",
       "5    PYTHON\n",
       "dtype: object"
      ]
     },
     "execution_count": 509,
     "metadata": {},
     "output_type": "execute_result"
    }
   ],
   "source": [
    "lol.str.upper()"
   ]
  },
  {
   "cell_type": "markdown",
   "id": "0066ea95-8c07-47e2-b4e7-b3cab8325756",
   "metadata": {},
   "source": [
    "<div style=\"direction: rtl; text-align: right; font-size: 20px\">\n",
    " ◂   طول رشته را می‌دهد\n",
    "\n",
    "</div>"
   ]
  },
  {
   "cell_type": "code",
   "execution_count": 510,
   "id": "6132c3be-dcdf-4d4f-a778-52fa364f6055",
   "metadata": {},
   "outputs": [
    {
     "data": {
      "text/plain": [
       "0    3\n",
       "1    2\n",
       "2    4\n",
       "3    5\n",
       "4    4\n",
       "5    6\n",
       "dtype: int64"
      ]
     },
     "execution_count": 510,
     "metadata": {},
     "output_type": "execute_result"
    }
   ],
   "source": [
    "lol.str.len()"
   ]
  },
  {
   "cell_type": "markdown",
   "id": "c1557e3d-ef7a-47fb-8156-327269f32dda",
   "metadata": {},
   "source": [
    "<div style=\"direction: rtl; text-align: right; font-size: 20px\">\n",
    "◂    بررسی وجود یک حرف یا رشته\n",
    "</div>"
   ]
  },
  {
   "cell_type": "code",
   "execution_count": 511,
   "id": "b49a50c0-ec21-4497-a1f4-e1c70a880b0d",
   "metadata": {},
   "outputs": [
    {
     "data": {
      "text/plain": [
       "0    False\n",
       "1    False\n",
       "2     True\n",
       "3    False\n",
       "4    False\n",
       "5    False\n",
       "dtype: bool"
      ]
     },
     "execution_count": 511,
     "metadata": {},
     "output_type": "execute_result"
    }
   ],
   "source": [
    "lol.str.contains(\"a\")"
   ]
  },
  {
   "cell_type": "markdown",
   "id": "cf48dcd0-2569-4905-8dea-1bb437dcb244",
   "metadata": {},
   "source": [
    "<div style=\"direction: rtl; text-align: right; font-size: 20px\">\n",
    "◂  جایگزینی کاراکتر یا رشته\n",
    "</div>"
   ]
  },
  {
   "cell_type": "code",
   "execution_count": 512,
   "id": "20ea6f34-5c0f-4f62-9331-4f0f66cb767f",
   "metadata": {},
   "outputs": [
    {
     "data": {
      "text/plain": [
       "0       Gol\n",
       "1        ml\n",
       "2      irxn\n",
       "3     linux\n",
       "4      Jedi\n",
       "5    Python\n",
       "dtype: object"
      ]
     },
     "execution_count": 512,
     "metadata": {},
     "output_type": "execute_result"
    }
   ],
   "source": [
    "lol.str.replace(\"a\", \"x\")"
   ]
  },
  {
   "cell_type": "markdown",
   "id": "64ed3244-bfb5-4724-ba4b-31f47039d5b9",
   "metadata": {},
   "source": [
    "<div style=\"direction: rtl; text-align: right; font-size: 20px\">\n",
    "◂   بررسی شروع رشته با یک حرف خاص\n",
    "</div>"
   ]
  },
  {
   "cell_type": "code",
   "execution_count": 513,
   "id": "c9e1b09d-f716-46e5-ab95-f8b912ef462c",
   "metadata": {},
   "outputs": [
    {
     "data": {
      "text/plain": [
       "0    False\n",
       "1    False\n",
       "2    False\n",
       "3     True\n",
       "4    False\n",
       "5    False\n",
       "dtype: bool"
      ]
     },
     "execution_count": 513,
     "metadata": {},
     "output_type": "execute_result"
    }
   ],
   "source": [
    "lol.str.startswith(\"l\")"
   ]
  },
  {
   "cell_type": "markdown",
   "id": "2ba89742-9d30-4b84-9e61-aaa9f08724ad",
   "metadata": {},
   "source": [
    "<div style=\"direction: rtl; text-align: right; font-size: 20px\">\n",
    "◂ جستجوی الگوهای regex\n",
    "</div>"
   ]
  },
  {
   "cell_type": "code",
   "execution_count": 514,
   "id": "166d99e9-583a-4a63-9eaf-6f44c0c7da1f",
   "metadata": {},
   "outputs": [
    {
     "data": {
      "text/plain": [
       "0     []\n",
       "1     []\n",
       "2    [a]\n",
       "3     []\n",
       "4     []\n",
       "5     []\n",
       "dtype: object"
      ]
     },
     "execution_count": 514,
     "metadata": {},
     "output_type": "execute_result"
    }
   ],
   "source": [
    "lol.str.findall(r\"[abc]\")"
   ]
  },
  {
   "cell_type": "markdown",
   "id": "2953a342-b22c-4fd7-a356-bc332bb6a697",
   "metadata": {},
   "source": [
    "<div style=\"direction: rtl; text-align: right; font-size: 20px\">\n",
    "◂  تقسیم رشته به لیست\n",
    "</div>"
   ]
  },
  {
   "cell_type": "code",
   "execution_count": 515,
   "id": "6128ffd3-2d06-4ffd-8aa7-f3f23fe84574",
   "metadata": {},
   "outputs": [
    {
     "data": {
      "text/plain": [
       "0       [Gol]\n",
       "1        [ml]\n",
       "2      [iran]\n",
       "3     [linux]\n",
       "4      [Jedi]\n",
       "5    [Python]\n",
       "dtype: object"
      ]
     },
     "execution_count": 515,
     "metadata": {},
     "output_type": "execute_result"
    }
   ],
   "source": [
    "lol.str.split()"
   ]
  },
  {
   "cell_type": "markdown",
   "id": "cb1eaef9-d857-4665-910b-bd163fd832b2",
   "metadata": {},
   "source": [
    "<div style=\"direction: rtl; text-align: right; font-size: 30px\">\n",
    "داده‌های گمشده \n",
    "</div>"
   ]
  },
  {
   "cell_type": "markdown",
   "id": "43e29d78-4ccc-4b94-819c-c7b69bac0c8b",
   "metadata": {},
   "source": [
    "<div style=\"direction: rtl; text-align: right; font-size: 20px\">\n",
    "    در Pandas معمولاً داده‌های گمشده به صورت NaN (Not a Number) نمایش داده می‌شن.\n",
    "</div>"
   ]
  },
  {
   "cell_type": "code",
   "execution_count": 516,
   "id": "28569c25-b4f4-4d42-8946-dc4e9ab812e5",
   "metadata": {},
   "outputs": [],
   "source": [
    "import numpy as np"
   ]
  },
  {
   "cell_type": "code",
   "execution_count": 517,
   "id": "693aee3e-f0a9-4aa7-8a43-1af302b6c504",
   "metadata": {},
   "outputs": [],
   "source": [
    "fg = pd.DataFrame({\n",
    "    \"A\": [1, 2, np.nan, 4],\n",
    "    \"B\": [np.nan, 2, 3, 4],\n",
    "    \"C\": [1, np.nan, np.nan, 4]\n",
    "})"
   ]
  },
  {
   "cell_type": "markdown",
   "id": "e9bf5baf-bd86-40c5-b0a8-317ce8e16c99",
   "metadata": {},
   "source": [
    "<div style=\"direction: rtl; text-align: right; font-size: 20px\">\n",
    "     بررسی داده‌های گمشده\n",
    "</div>"
   ]
  },
  {
   "cell_type": "code",
   "execution_count": 518,
   "id": "8a442262-f6ce-43db-858b-cd3e67fd9a81",
   "metadata": {},
   "outputs": [
    {
     "data": {
      "text/html": [
       "<div>\n",
       "<style scoped>\n",
       "    .dataframe tbody tr th:only-of-type {\n",
       "        vertical-align: middle;\n",
       "    }\n",
       "\n",
       "    .dataframe tbody tr th {\n",
       "        vertical-align: top;\n",
       "    }\n",
       "\n",
       "    .dataframe thead th {\n",
       "        text-align: right;\n",
       "    }\n",
       "</style>\n",
       "<table border=\"1\" class=\"dataframe\">\n",
       "  <thead>\n",
       "    <tr style=\"text-align: right;\">\n",
       "      <th></th>\n",
       "      <th>name</th>\n",
       "      <th>age</th>\n",
       "    </tr>\n",
       "  </thead>\n",
       "  <tbody>\n",
       "    <tr>\n",
       "      <th>0</th>\n",
       "      <td>False</td>\n",
       "      <td>False</td>\n",
       "    </tr>\n",
       "    <tr>\n",
       "      <th>1</th>\n",
       "      <td>False</td>\n",
       "      <td>False</td>\n",
       "    </tr>\n",
       "  </tbody>\n",
       "</table>\n",
       "</div>"
      ],
      "text/plain": [
       "    name    age\n",
       "0  False  False\n",
       "1  False  False"
      ]
     },
     "execution_count": 518,
     "metadata": {},
     "output_type": "execute_result"
    }
   ],
   "source": [
    "df.isna()"
   ]
  },
  {
   "cell_type": "markdown",
   "id": "a57e75a1-6933-4416-85cc-03b8b5016605",
   "metadata": {},
   "source": [
    "<div style=\"direction: rtl; text-align: right; font-size: 17px\">\n",
    "    True یعنی اون مقدار گمشده است.\n",
    "</div>"
   ]
  },
  {
   "cell_type": "markdown",
   "id": "f7306240-8750-4c61-ac96-2ad4cb6446be",
   "metadata": {},
   "source": [
    "<div style=\"direction: rtl; text-align: right; font-size: 20px\">\n",
    "    برای شمارش داده‌های گمشده\n",
    "</div>"
   ]
  },
  {
   "cell_type": "code",
   "execution_count": 519,
   "id": "4becd261-2456-4142-9e53-c840c1fbb913",
   "metadata": {},
   "outputs": [
    {
     "data": {
      "text/plain": [
       "name    0\n",
       "age     0\n",
       "dtype: int64"
      ]
     },
     "execution_count": 519,
     "metadata": {},
     "output_type": "execute_result"
    }
   ],
   "source": [
    "df.isna().sum()"
   ]
  },
  {
   "cell_type": "markdown",
   "id": "f760073a-7d97-43ff-80b7-91c3992b31f1",
   "metadata": {},
   "source": [
    "<div style=\"direction: rtl; text-align: right; font-size: 20px\">\n",
    "     بررسی اینکه آیا داده گمشده‌ای وجود داره\n",
    "</div>"
   ]
  },
  {
   "cell_type": "code",
   "execution_count": 520,
   "id": "643a4938-cfe5-4e9d-b6cc-e853074c81b6",
   "metadata": {},
   "outputs": [
    {
     "data": {
      "text/plain": [
       "name    False\n",
       "age     False\n",
       "dtype: bool"
      ]
     },
     "execution_count": 520,
     "metadata": {},
     "output_type": "execute_result"
    }
   ],
   "source": [
    "df.isna().any()"
   ]
  },
  {
   "cell_type": "markdown",
   "id": "85fec0c2-461a-417d-940f-186aee5aac15",
   "metadata": {},
   "source": [
    "<div style=\"direction: rtl; text-align: right; font-size: 20px\">\n",
    "    حذف داده‌های گمشده\n",
    "</div>"
   ]
  },
  {
   "cell_type": "code",
   "execution_count": 521,
   "id": "1d6aec37-1d6e-4a42-9fb4-e34d1f6a9d04",
   "metadata": {},
   "outputs": [
    {
     "data": {
      "text/html": [
       "<div>\n",
       "<style scoped>\n",
       "    .dataframe tbody tr th:only-of-type {\n",
       "        vertical-align: middle;\n",
       "    }\n",
       "\n",
       "    .dataframe tbody tr th {\n",
       "        vertical-align: top;\n",
       "    }\n",
       "\n",
       "    .dataframe thead th {\n",
       "        text-align: right;\n",
       "    }\n",
       "</style>\n",
       "<table border=\"1\" class=\"dataframe\">\n",
       "  <thead>\n",
       "    <tr style=\"text-align: right;\">\n",
       "      <th></th>\n",
       "      <th>name</th>\n",
       "      <th>age</th>\n",
       "    </tr>\n",
       "  </thead>\n",
       "  <tbody>\n",
       "    <tr>\n",
       "      <th>0</th>\n",
       "      <td>Arsalan</td>\n",
       "      <td>19</td>\n",
       "    </tr>\n",
       "    <tr>\n",
       "      <th>1</th>\n",
       "      <td>Natalie</td>\n",
       "      <td>22</td>\n",
       "    </tr>\n",
       "  </tbody>\n",
       "</table>\n",
       "</div>"
      ],
      "text/plain": [
       "      name  age\n",
       "0  Arsalan   19\n",
       "1  Natalie   22"
      ]
     },
     "execution_count": 521,
     "metadata": {},
     "output_type": "execute_result"
    }
   ],
   "source": [
    "df.dropna()"
   ]
  },
  {
   "cell_type": "markdown",
   "id": "84a1763d-658f-4fba-b70c-b6b7828ee279",
   "metadata": {},
   "source": [
    "<div style=\"direction: rtl; text-align: right; font-size: 20px\">\n",
    "     جایگزینی داده‌های گمشده\n",
    "</div>"
   ]
  },
  {
   "cell_type": "code",
   "execution_count": 522,
   "id": "bdfb2249-6c83-48bf-b879-6c0560b725c8",
   "metadata": {},
   "outputs": [
    {
     "data": {
      "text/html": [
       "<div>\n",
       "<style scoped>\n",
       "    .dataframe tbody tr th:only-of-type {\n",
       "        vertical-align: middle;\n",
       "    }\n",
       "\n",
       "    .dataframe tbody tr th {\n",
       "        vertical-align: top;\n",
       "    }\n",
       "\n",
       "    .dataframe thead th {\n",
       "        text-align: right;\n",
       "    }\n",
       "</style>\n",
       "<table border=\"1\" class=\"dataframe\">\n",
       "  <thead>\n",
       "    <tr style=\"text-align: right;\">\n",
       "      <th></th>\n",
       "      <th>name</th>\n",
       "      <th>age</th>\n",
       "    </tr>\n",
       "  </thead>\n",
       "  <tbody>\n",
       "    <tr>\n",
       "      <th>0</th>\n",
       "      <td>Arsalan</td>\n",
       "      <td>19</td>\n",
       "    </tr>\n",
       "    <tr>\n",
       "      <th>1</th>\n",
       "      <td>Natalie</td>\n",
       "      <td>22</td>\n",
       "    </tr>\n",
       "  </tbody>\n",
       "</table>\n",
       "</div>"
      ],
      "text/plain": [
       "      name  age\n",
       "0  Arsalan   19\n",
       "1  Natalie   22"
      ]
     },
     "execution_count": 522,
     "metadata": {},
     "output_type": "execute_result"
    }
   ],
   "source": [
    "df.fillna(0)"
   ]
  },
  {
   "cell_type": "markdown",
   "id": "72884754-d9da-4442-b18f-64525e520613",
   "metadata": {},
   "source": [
    "<div style=\"direction: rtl; text-align: right; font-size: 30px\">\n",
    "    آموزش سری‌های زمانی (Time Series) \n",
    "</div>"
   ]
  },
  {
   "cell_type": "markdown",
   "id": "4d2c7032-7671-4582-ba6e-03a74bde2120",
   "metadata": {},
   "source": [
    "<div style=\"direction: rtl; text-align: right; font-size: 20px\">\n",
    "    تاریخ‌ها به عنوان ایندکس\n",
    "</div>"
   ]
  },
  {
   "cell_type": "code",
   "execution_count": 523,
   "id": "6a5b9869-f4aa-4fc7-b1dd-99f9b4c08221",
   "metadata": {},
   "outputs": [],
   "source": [
    "date_range = pd.date_range(\"2023-01-01\", periods=6, freq=\"D\") \n",
    "# pd.date_range() → ایجاد محدوده‌ای از تاریخ‌ها \n",
    "# freq=\"D\" → فرکانس روزانه"
   ]
  },
  {
   "cell_type": "code",
   "execution_count": 524,
   "id": "4ee9821e-7e5d-44c8-b298-ae0bc0cba074",
   "metadata": {},
   "outputs": [
    {
     "name": "stdout",
     "output_type": "stream",
     "text": [
      "            value\n",
      "2023-01-01      0\n",
      "2023-01-02      1\n",
      "2023-01-03      2\n",
      "2023-01-04      3\n",
      "2023-01-05      4\n",
      "2023-01-06      5\n"
     ]
    }
   ],
   "source": [
    "df = pd.DataFrame({\"value\": range(6)}, index=date_range)\n",
    "print(df)"
   ]
  },
  {
   "cell_type": "markdown",
   "id": "a8d36455-628b-43a3-83c3-528883b849e7",
   "metadata": {},
   "source": [
    "<div style=\"direction: rtl; text-align: right; font-size: 20px\">\n",
    "    استخراج اجزای تاریخ مثل سال، ماه، روز، ساعت و غیره از ستون‌های تاریخ یا ایندکس زمانی.\n",
    "</div>"
   ]
  },
  {
   "cell_type": "code",
   "execution_count": 525,
   "id": "5d6c4d05-fecc-4b50-816b-2d244ce35fa7",
   "metadata": {},
   "outputs": [
    {
     "data": {
      "text/plain": [
       "Index([2023, 2023, 2023, 2023, 2023, 2023], dtype='int32')"
      ]
     },
     "execution_count": 525,
     "metadata": {},
     "output_type": "execute_result"
    }
   ],
   "source": [
    "df.index.year # سال"
   ]
  },
  {
   "cell_type": "code",
   "execution_count": 526,
   "id": "6eafc71d-a035-43b9-9c4a-f4f20d1eca1c",
   "metadata": {},
   "outputs": [
    {
     "data": {
      "text/plain": [
       "Index([1, 1, 1, 1, 1, 1], dtype='int32')"
      ]
     },
     "execution_count": 526,
     "metadata": {},
     "output_type": "execute_result"
    }
   ],
   "source": [
    "df.index.month     # ماه"
   ]
  },
  {
   "cell_type": "code",
   "execution_count": 527,
   "id": "aadeba35-3600-49d2-9c88-8467539c98d4",
   "metadata": {},
   "outputs": [
    {
     "data": {
      "text/plain": [
       "Index([1, 2, 3, 4, 5, 6], dtype='int32')"
      ]
     },
     "execution_count": 527,
     "metadata": {},
     "output_type": "execute_result"
    }
   ],
   "source": [
    "df.index.day       # روز"
   ]
  },
  {
   "cell_type": "code",
   "execution_count": 528,
   "id": "f0365aca-fc6d-4d2a-bdb4-b0af7d5f4f38",
   "metadata": {},
   "outputs": [
    {
     "data": {
      "text/plain": [
       "Index([6, 0, 1, 2, 3, 4], dtype='int32')"
      ]
     },
     "execution_count": 528,
     "metadata": {},
     "output_type": "execute_result"
    }
   ],
   "source": [
    "df.index.weekday   # روز هفته (۰=دوشنبه)"
   ]
  },
  {
   "cell_type": "code",
   "execution_count": 529,
   "id": "88b5cbbf-4e81-40b6-bf74-fe9f0bdbb252",
   "metadata": {},
   "outputs": [
    {
     "data": {
      "text/plain": [
       "Index(['Sunday', 'Monday', 'Tuesday', 'Wednesday', 'Thursday', 'Friday'], dtype='object')"
      ]
     },
     "execution_count": 529,
     "metadata": {},
     "output_type": "execute_result"
    }
   ],
   "source": [
    "df.index.day_name()"
   ]
  },
  {
   "cell_type": "code",
   "execution_count": 530,
   "id": "a6df9c0d-ed5b-4475-942d-55ae01caa5f0",
   "metadata": {},
   "outputs": [
    {
     "data": {
      "text/plain": [
       "Index(['January', 'January', 'January', 'January', 'January', 'January'], dtype='object')"
      ]
     },
     "execution_count": 530,
     "metadata": {},
     "output_type": "execute_result"
    }
   ],
   "source": [
    "df.index.month_name()"
   ]
  },
  {
   "cell_type": "code",
   "execution_count": 531,
   "id": "33813578-d2d4-4bd6-bc2a-94685ab379c2",
   "metadata": {},
   "outputs": [
    {
     "data": {
      "text/plain": [
       "Index([0, 0, 0, 0, 0, 0], dtype='int32')"
      ]
     },
     "execution_count": 531,
     "metadata": {},
     "output_type": "execute_result"
    }
   ],
   "source": [
    "df.index.hour"
   ]
  },
  {
   "cell_type": "code",
   "execution_count": 532,
   "id": "37784624-855f-4f3d-a9f1-eee694c1a1be",
   "metadata": {},
   "outputs": [
    {
     "data": {
      "text/plain": [
       "Index([0, 0, 0, 0, 0, 0], dtype='int32')"
      ]
     },
     "execution_count": 532,
     "metadata": {},
     "output_type": "execute_result"
    }
   ],
   "source": [
    "df.index.minute"
   ]
  },
  {
   "cell_type": "code",
   "execution_count": 533,
   "id": "880f2718-be6a-4927-bee9-2d15f6703fb2",
   "metadata": {},
   "outputs": [
    {
     "data": {
      "text/plain": [
       "Index([0, 0, 0, 0, 0, 0], dtype='int32')"
      ]
     },
     "execution_count": 533,
     "metadata": {},
     "output_type": "execute_result"
    }
   ],
   "source": [
    "df.index.second"
   ]
  },
  {
   "cell_type": "markdown",
   "id": "df28e151-e30e-45a8-aab3-b01875430191",
   "metadata": {},
   "source": [
    "<div style=\"direction: rtl; text-align: right; font-size: 20px\">\n",
    "    انتخاب داده با استفاده از تاریخ\n",
    "</div>"
   ]
  },
  {
   "cell_type": "code",
   "execution_count": 534,
   "id": "5e046011-e538-4f4c-b888-e0cc07d1dbdd",
   "metadata": {},
   "outputs": [
    {
     "data": {
      "text/html": [
       "<div>\n",
       "<style scoped>\n",
       "    .dataframe tbody tr th:only-of-type {\n",
       "        vertical-align: middle;\n",
       "    }\n",
       "\n",
       "    .dataframe tbody tr th {\n",
       "        vertical-align: top;\n",
       "    }\n",
       "\n",
       "    .dataframe thead th {\n",
       "        text-align: right;\n",
       "    }\n",
       "</style>\n",
       "<table border=\"1\" class=\"dataframe\">\n",
       "  <thead>\n",
       "    <tr style=\"text-align: right;\">\n",
       "      <th></th>\n",
       "      <th>value</th>\n",
       "    </tr>\n",
       "  </thead>\n",
       "  <tbody>\n",
       "    <tr>\n",
       "      <th>2023-01-01</th>\n",
       "      <td>0</td>\n",
       "    </tr>\n",
       "    <tr>\n",
       "      <th>2023-01-02</th>\n",
       "      <td>1</td>\n",
       "    </tr>\n",
       "    <tr>\n",
       "      <th>2023-01-03</th>\n",
       "      <td>2</td>\n",
       "    </tr>\n",
       "    <tr>\n",
       "      <th>2023-01-04</th>\n",
       "      <td>3</td>\n",
       "    </tr>\n",
       "    <tr>\n",
       "      <th>2023-01-05</th>\n",
       "      <td>4</td>\n",
       "    </tr>\n",
       "    <tr>\n",
       "      <th>2023-01-06</th>\n",
       "      <td>5</td>\n",
       "    </tr>\n",
       "  </tbody>\n",
       "</table>\n",
       "</div>"
      ],
      "text/plain": [
       "            value\n",
       "2023-01-01      0\n",
       "2023-01-02      1\n",
       "2023-01-03      2\n",
       "2023-01-04      3\n",
       "2023-01-05      4\n",
       "2023-01-06      5"
      ]
     },
     "execution_count": 534,
     "metadata": {},
     "output_type": "execute_result"
    }
   ],
   "source": [
    "df.loc['2023-01']"
   ]
  },
  {
   "cell_type": "markdown",
   "id": "b9b3e185-9579-49f9-aae4-042e8bd64543",
   "metadata": {},
   "source": [
    "<div style=\"direction: rtl; text-align: right; font-size: 20px\">\n",
    "چطور می‌توانیم یک ستون تاریخ (datetime) را به عنوان ایندکس (index) دیتافریم قرار دهیم \n",
    "</div>"
   ]
  },
  {
   "cell_type": "code",
   "execution_count": 535,
   "id": "cfc12b3b-d717-456b-9a79-da4662922c23",
   "metadata": {},
   "outputs": [
    {
     "name": "stdout",
     "output_type": "stream",
     "text": [
      "            value\n",
      "date             \n",
      "2023-01-01     10\n",
      "2023-01-02     20\n",
      "2023-01-03     30\n"
     ]
    }
   ],
   "source": [
    "data = {\n",
    "    \"date\": [\"2023-01-01\", \"2023-01-02\", \"2023-01-03\"],\n",
    "    \"value\": [10, 20, 30]\n",
    "}\n",
    "df = pd.DataFrame(data)\n",
    "\n",
    "# تبدیل ستون date به datetime\n",
    "df[\"date\"] = pd.to_datetime(df[\"date\"])\n",
    "\n",
    "# قرار دادن ستون date به عنوان ایندکس\n",
    "df = df.set_index(\"date\")\n",
    "print(df)"
   ]
  },
  {
   "cell_type": "markdown",
   "id": "51d82a70-f023-46d4-9e7d-e490659f9d57",
   "metadata": {},
   "source": [
    "<div style=\"direction: rtl; text-align: right; font-size: 20px\">\n",
    " تغییر فرکانس داده‌ها (Resampling)\n",
    "</div>"
   ]
  },
  {
   "cell_type": "code",
   "execution_count": 536,
   "id": "379a0a73-9d2a-4166-9297-131421d7725c",
   "metadata": {},
   "outputs": [
    {
     "data": {
      "text/html": [
       "<div>\n",
       "<style scoped>\n",
       "    .dataframe tbody tr th:only-of-type {\n",
       "        vertical-align: middle;\n",
       "    }\n",
       "\n",
       "    .dataframe tbody tr th {\n",
       "        vertical-align: top;\n",
       "    }\n",
       "\n",
       "    .dataframe thead th {\n",
       "        text-align: right;\n",
       "    }\n",
       "</style>\n",
       "<table border=\"1\" class=\"dataframe\">\n",
       "  <thead>\n",
       "    <tr style=\"text-align: right;\">\n",
       "      <th></th>\n",
       "      <th>value</th>\n",
       "    </tr>\n",
       "    <tr>\n",
       "      <th>date</th>\n",
       "      <th></th>\n",
       "    </tr>\n",
       "  </thead>\n",
       "  <tbody>\n",
       "    <tr>\n",
       "      <th>2023-01-01</th>\n",
       "      <td>30</td>\n",
       "    </tr>\n",
       "    <tr>\n",
       "      <th>2023-01-03</th>\n",
       "      <td>30</td>\n",
       "    </tr>\n",
       "  </tbody>\n",
       "</table>\n",
       "</div>"
      ],
      "text/plain": [
       "            value\n",
       "date             \n",
       "2023-01-01     30\n",
       "2023-01-03     30"
      ]
     },
     "execution_count": 536,
     "metadata": {},
     "output_type": "execute_result"
    }
   ],
   "source": [
    "df.resample(\"2D\").sum() #resample(\"2D\") → گروه‌بندی هر ۲ روز"
   ]
  },
  {
   "cell_type": "markdown",
   "id": "0cda638e-2d01-4c31-bb60-020be3cf4384",
   "metadata": {},
   "source": [
    "<div style=\"direction: rtl; text-align: right; font-size: 20px\">\n",
    "تغییر فرکانس زمانی\n",
    "</div>"
   ]
  },
  {
   "cell_type": "code",
   "execution_count": 537,
   "id": "20ee7957-d1ab-4d92-b921-45e95b46ff7a",
   "metadata": {},
   "outputs": [
    {
     "data": {
      "text/html": [
       "<div>\n",
       "<style scoped>\n",
       "    .dataframe tbody tr th:only-of-type {\n",
       "        vertical-align: middle;\n",
       "    }\n",
       "\n",
       "    .dataframe tbody tr th {\n",
       "        vertical-align: top;\n",
       "    }\n",
       "\n",
       "    .dataframe thead th {\n",
       "        text-align: right;\n",
       "    }\n",
       "</style>\n",
       "<table border=\"1\" class=\"dataframe\">\n",
       "  <thead>\n",
       "    <tr style=\"text-align: right;\">\n",
       "      <th></th>\n",
       "      <th>value</th>\n",
       "    </tr>\n",
       "    <tr>\n",
       "      <th>date</th>\n",
       "      <th></th>\n",
       "    </tr>\n",
       "  </thead>\n",
       "  <tbody>\n",
       "    <tr>\n",
       "      <th>2023-01-01</th>\n",
       "      <td>10</td>\n",
       "    </tr>\n",
       "    <tr>\n",
       "      <th>2023-01-03</th>\n",
       "      <td>30</td>\n",
       "    </tr>\n",
       "  </tbody>\n",
       "</table>\n",
       "</div>"
      ],
      "text/plain": [
       "            value\n",
       "date             \n",
       "2023-01-01     10\n",
       "2023-01-03     30"
      ]
     },
     "execution_count": 537,
     "metadata": {},
     "output_type": "execute_result"
    }
   ],
   "source": [
    "df.asfreq(\"2D\") # فقط ایندکس رو به ۲ روز یک بار تغییر می‌ده (بدون جمع یا میانگین)"
   ]
  },
  {
   "cell_type": "markdown",
   "id": "76fdc5f4-ece0-4c93-8bb9-fc860d1f9494",
   "metadata": {},
   "source": [
    "<div style=\"direction: rtl; text-align: right; font-size: 20px\">\n",
    "    فرکانس‌های رایج:\n",
    "</div>"
   ]
  },
  {
   "cell_type": "raw",
   "id": "837fae12-8d63-42f3-a8bb-2aa5aa75e5e4",
   "metadata": {},
   "source": [
    " روزانه (Daily) ----> 'D'"
   ]
  },
  {
   "cell_type": "raw",
   "id": "c6a61835-066c-4686-84d0-0c66f541a6e6",
   "metadata": {},
   "source": [
    "هفتگی (Weekly) ----> 'W'"
   ]
  },
  {
   "cell_type": "raw",
   "id": "11829dc0-927c-4227-bcf1-d6ba837c9c9b",
   "metadata": {},
   "source": [
    "ماهانه (Monthly) ----> 'ME'"
   ]
  },
  {
   "cell_type": "raw",
   "id": "43a54bf5-55a2-4296-828a-b6a3501b2b8d",
   "metadata": {},
   "source": [
    "سه ماهه (Quarterly) ----> 'Q'"
   ]
  },
  {
   "cell_type": "raw",
   "id": "b8705902-cc45-4094-9e3e-dacb19da2d34",
   "metadata": {},
   "source": [
    "سالانه (Yearly) ----->  'A' یا 'Y'"
   ]
  },
  {
   "cell_type": "raw",
   "id": "2469ba33-1efc-42bf-896b-6519e8cf956d",
   "metadata": {},
   "source": [
    "ساعتی (Hourly) ----->  'H'"
   ]
  },
  {
   "cell_type": "raw",
   "id": "dad90044-f6ff-4c79-b97d-50c0f081aafd",
   "metadata": {},
   "source": [
    "دقیقه‌ای ----> 'T' یا 'min'"
   ]
  },
  {
   "cell_type": "raw",
   "id": "f97c27fd-f28b-4e1f-a1da-08067a52e204",
   "metadata": {},
   "source": [
    "ثانیه‌ای ----> 'S'"
   ]
  },
  {
   "cell_type": "markdown",
   "id": "8bf70328-23ce-47b9-bb77-b6dbbbc24153",
   "metadata": {},
   "source": [
    "<div style=\"direction: rtl; text-align: right; font-size: 20px\">\n",
    "شیفت دادن داده‌ها (Shifting)\n",
    "</div>"
   ]
  },
  {
   "cell_type": "code",
   "execution_count": 538,
   "id": "6533614c-e542-4acc-95dd-04e9702173bd",
   "metadata": {},
   "outputs": [
    {
     "data": {
      "text/html": [
       "<div>\n",
       "<style scoped>\n",
       "    .dataframe tbody tr th:only-of-type {\n",
       "        vertical-align: middle;\n",
       "    }\n",
       "\n",
       "    .dataframe tbody tr th {\n",
       "        vertical-align: top;\n",
       "    }\n",
       "\n",
       "    .dataframe thead th {\n",
       "        text-align: right;\n",
       "    }\n",
       "</style>\n",
       "<table border=\"1\" class=\"dataframe\">\n",
       "  <thead>\n",
       "    <tr style=\"text-align: right;\">\n",
       "      <th></th>\n",
       "      <th>value</th>\n",
       "    </tr>\n",
       "    <tr>\n",
       "      <th>date</th>\n",
       "      <th></th>\n",
       "    </tr>\n",
       "  </thead>\n",
       "  <tbody>\n",
       "    <tr>\n",
       "      <th>2023-01-01</th>\n",
       "      <td>NaN</td>\n",
       "    </tr>\n",
       "    <tr>\n",
       "      <th>2023-01-02</th>\n",
       "      <td>10.0</td>\n",
       "    </tr>\n",
       "    <tr>\n",
       "      <th>2023-01-03</th>\n",
       "      <td>20.0</td>\n",
       "    </tr>\n",
       "  </tbody>\n",
       "</table>\n",
       "</div>"
      ],
      "text/plain": [
       "            value\n",
       "date             \n",
       "2023-01-01    NaN\n",
       "2023-01-02   10.0\n",
       "2023-01-03   20.0"
      ]
     },
     "execution_count": 538,
     "metadata": {},
     "output_type": "execute_result"
    }
   ],
   "source": [
    "df.shift(1)         # داده‌ها را یک سطر به پایین می‌برد"
   ]
  },
  {
   "cell_type": "code",
   "execution_count": 539,
   "id": "99d937eb-c01d-484f-a66e-f0b92913d623",
   "metadata": {},
   "outputs": [
    {
     "data": {
      "text/html": [
       "<div>\n",
       "<style scoped>\n",
       "    .dataframe tbody tr th:only-of-type {\n",
       "        vertical-align: middle;\n",
       "    }\n",
       "\n",
       "    .dataframe tbody tr th {\n",
       "        vertical-align: top;\n",
       "    }\n",
       "\n",
       "    .dataframe thead th {\n",
       "        text-align: right;\n",
       "    }\n",
       "</style>\n",
       "<table border=\"1\" class=\"dataframe\">\n",
       "  <thead>\n",
       "    <tr style=\"text-align: right;\">\n",
       "      <th></th>\n",
       "      <th>value</th>\n",
       "    </tr>\n",
       "    <tr>\n",
       "      <th>date</th>\n",
       "      <th></th>\n",
       "    </tr>\n",
       "  </thead>\n",
       "  <tbody>\n",
       "    <tr>\n",
       "      <th>2023-01-01</th>\n",
       "      <td>20.0</td>\n",
       "    </tr>\n",
       "    <tr>\n",
       "      <th>2023-01-02</th>\n",
       "      <td>30.0</td>\n",
       "    </tr>\n",
       "    <tr>\n",
       "      <th>2023-01-03</th>\n",
       "      <td>NaN</td>\n",
       "    </tr>\n",
       "  </tbody>\n",
       "</table>\n",
       "</div>"
      ],
      "text/plain": [
       "            value\n",
       "date             \n",
       "2023-01-01   20.0\n",
       "2023-01-02   30.0\n",
       "2023-01-03    NaN"
      ]
     },
     "execution_count": 539,
     "metadata": {},
     "output_type": "execute_result"
    }
   ],
   "source": [
    "df.shift(-1)        # یک سطر به بالا"
   ]
  },
  {
   "cell_type": "markdown",
   "id": "14972b0d-27c1-4ca9-b893-fe427155775b",
   "metadata": {},
   "source": [
    "<div style=\"direction: rtl; text-align: right; font-size:20px\">\n",
    "     بازه‌های زمانی (time bins)\n",
    "</div>"
   ]
  },
  {
   "cell_type": "markdown",
   "id": "34db0c8c-b47a-494d-929c-af34ac64b0c8",
   "metadata": {},
   "source": [
    "<div style=\"direction: rtl; text-align: right; font-size:17px\">\n",
    "    closed چیست؟\n",
    "    <br>\n",
    "    مشخص می‌کنه که لبه‌ی بسته (inclusive) کدام طرف بازه است (شروع یا پایان).\n",
    "</div>"
   ]
  },
  {
   "cell_type": "code",
   "execution_count": 540,
   "id": "09b62d92-5929-4512-87d0-93dbe744b5c2",
   "metadata": {},
   "outputs": [
    {
     "data": {
      "text/plain": [
       "<pandas.core.resample.DatetimeIndexResampler object at 0x76ea40957cb0>"
      ]
     },
     "execution_count": 540,
     "metadata": {},
     "output_type": "execute_result"
    }
   ],
   "source": [
    "df.resample('ME', closed='left')"
   ]
  },
  {
   "cell_type": "markdown",
   "id": "d83d51ae-1976-4086-8519-e3536b760591",
   "metadata": {},
   "source": [
    "<div style=\"direction: rtl; text-align: right; font-size: 15px\">\n",
    "    'left': لبه‌ی سمت چپ (شروع بازه) شامل می‌شود.\n",
    "    <br>\n",
    "    'right': لبه‌ی سمت راست (پایان بازه) شامل می‌شود.\n",
    "</div>"
   ]
  },
  {
   "cell_type": "markdown",
   "id": "22acc851-4a9f-4ae5-b139-35ec0de1626f",
   "metadata": {},
   "source": [
    "<div style=\"direction: rtl; text-align: right; font-size: 17px\">\n",
    "    label چیست؟\n",
    "    <br>\n",
    "    مشخص می‌کنه برچسب ایندکس نتیجه‌ی resample روی کدام طرف بازه باشد.\n",
    "</div>"
   ]
  },
  {
   "cell_type": "code",
   "execution_count": 541,
   "id": "983d7dbf-1aff-4131-9476-2d0ddc1730ae",
   "metadata": {},
   "outputs": [
    {
     "data": {
      "text/plain": [
       "<pandas.core.resample.DatetimeIndexResampler object at 0x76ea40956eb0>"
      ]
     },
     "execution_count": 541,
     "metadata": {},
     "output_type": "execute_result"
    }
   ],
   "source": [
    "df.resample('ME', label='right')"
   ]
  },
  {
   "cell_type": "markdown",
   "id": "7d82b4b8-9c9a-4c63-a720-975ab4c62dbf",
   "metadata": {},
   "source": [
    "<div style=\"direction: rtl; text-align: right; font-size: 15px\">\n",
    "'left': ایندکس خروجی روی شروع بازه قرار می‌گیره.\n",
    "    <br>\n",
    "'right': ایندکس خروجی روی پایان بازه قرار می‌گیره.\n",
    "</div>"
   ]
  },
  {
   "cell_type": "markdown",
   "id": "3924576c-6f88-49ca-a0cb-e5f25c2e2096",
   "metadata": {},
   "source": [
    "<div style=\"direction: rtl; text-align: right; font-size: 20px\">\n",
    "    ترکیب مثال:\n",
    "</div>"
   ]
  },
  {
   "cell_type": "code",
   "execution_count": 542,
   "id": "504e95b4-b348-4725-b2e4-279cd5225931",
   "metadata": {},
   "outputs": [
    {
     "data": {
      "text/html": [
       "<div>\n",
       "<style scoped>\n",
       "    .dataframe tbody tr th:only-of-type {\n",
       "        vertical-align: middle;\n",
       "    }\n",
       "\n",
       "    .dataframe tbody tr th {\n",
       "        vertical-align: top;\n",
       "    }\n",
       "\n",
       "    .dataframe thead th {\n",
       "        text-align: right;\n",
       "    }\n",
       "</style>\n",
       "<table border=\"1\" class=\"dataframe\">\n",
       "  <thead>\n",
       "    <tr style=\"text-align: right;\">\n",
       "      <th></th>\n",
       "      <th>value</th>\n",
       "    </tr>\n",
       "    <tr>\n",
       "      <th>date</th>\n",
       "      <th></th>\n",
       "    </tr>\n",
       "  </thead>\n",
       "  <tbody>\n",
       "    <tr>\n",
       "      <th>2023-01-31</th>\n",
       "      <td>60</td>\n",
       "    </tr>\n",
       "  </tbody>\n",
       "</table>\n",
       "</div>"
      ],
      "text/plain": [
       "            value\n",
       "date             \n",
       "2023-01-31     60"
      ]
     },
     "execution_count": 542,
     "metadata": {},
     "output_type": "execute_result"
    }
   ],
   "source": [
    "df.resample('ME', closed='right', label='right').sum()"
   ]
  },
  {
   "cell_type": "markdown",
   "id": "707a897d-de72-44bd-9560-870b46fc524c",
   "metadata": {},
   "source": [
    "<div style=\"direction: rtl; text-align: right; font-size: 30px\">\n",
    "     داده‌های دسته‌ای (گسسته)\n",
    "</div>"
   ]
  },
  {
   "cell_type": "markdown",
   "id": "c3a314c9-5827-4702-8b03-5aa6d379ceb1",
   "metadata": {},
   "source": [
    "<div style=\"direction: rtl; text-align: right; font-size: 20px\">\n",
    "    مثل:\n",
    "    <br>\n",
    "    جنسیت (male, female)، سطح کیفیت (low, medium, high)، رنگ (red, green, blue)، و غیره.\n",
    "</div>"
   ]
  },
  {
   "cell_type": "markdown",
   "id": "1f1eca3b-3084-4b3d-ab3b-8c7123517ce2",
   "metadata": {},
   "source": [
    "<div style=\"direction: rtl; text-align: right; font-size: 25px\">\n",
    "    ساخت یک شیء Categorical\n",
    "</div>"
   ]
  },
  {
   "cell_type": "code",
   "execution_count": 543,
   "id": "7d3d1c5a-9f7f-47bb-aa42-9ded55a37e55",
   "metadata": {},
   "outputs": [
    {
     "data": {
      "text/plain": [
       "['x', 'y', 'z', 'x', 'y', 'z']\n",
       "Categories (3, object): ['x', 'y', 'z']"
      ]
     },
     "execution_count": 543,
     "metadata": {},
     "output_type": "execute_result"
    }
   ],
   "source": [
    "pd.Categorical([\"x\", \"y\", \"z\", \"x\", \"y\", \"z\"])"
   ]
  },
  {
   "cell_type": "markdown",
   "id": "1d167b8e-ebaa-4bde-a93a-b89b2eb3bf49",
   "metadata": {},
   "source": [
    "<div style=\"direction: rtl; text-align: right; font-size: 25px\">\n",
    "     تعیین categories و ordered\n",
    "</div>"
   ]
  },
  {
   "cell_type": "code",
   "execution_count": 544,
   "id": "d5fc1e7d-c221-4492-a3a9-8caf19fed372",
   "metadata": {},
   "outputs": [
    {
     "data": {
      "text/plain": [
       "['low', 'medium', 'high', 'low']\n",
       "Categories (3, object): ['low' < 'medium' < 'high']"
      ]
     },
     "execution_count": 544,
     "metadata": {},
     "output_type": "execute_result"
    }
   ],
   "source": [
    "pd.Categorical(\n",
    "    [\"low\", \"medium\", \"high\", \"low\"],\n",
    "    categories=[\"low\", \"medium\", \"high\"],\n",
    "    ordered=True\n",
    ")"
   ]
  },
  {
   "cell_type": "markdown",
   "id": "07b11eac-876b-4a78-8f4d-33154a44f249",
   "metadata": {},
   "source": [
    "<div style=\"direction: rtl; text-align: right; font-size: 20px\">\n",
    "    این یعنی دسته‌ها ترتیب دارند (low < medium < high)\n",
    "</div>"
   ]
  },
  {
   "cell_type": "markdown",
   "id": "316d9e18-2911-4e1f-9fe2-ab4f093d026c",
   "metadata": {},
   "source": [
    "<div style=\"direction: rtl; text-align: right; font-size: 25px\">\n",
    "    ساختار داخلی Categorical:\n",
    "</div>"
   ]
  },
  {
   "cell_type": "markdown",
   "id": "dbd6de88-5b73-4ad7-8fe9-214683561dd5",
   "metadata": {},
   "source": [
    "<div style=\"direction: rtl; text-align: right; font-size: 20px\">\n",
    "    یک شیء Categorical از سه بخش تشکیل شده:\n",
    "    <br>\n",
    "    • categories → دسته‌های یکتا (مثل: \"قرمز\", \"آبی\", \"سبز\")\n",
    "    <br>\n",
    "    • codes → اعداد صحیحی که به هر مقدار اختصاص داده میشه (مثلاً قرمز = 0)\n",
    "    <br>\n",
    "    • ordered → مشخص می‌کنه که این دسته‌ها ترتیب‌دار هستن یا نه\n",
    "</div>"
   ]
  },
  {
   "cell_type": "markdown",
   "id": "6182f9fb-e960-471f-94bd-588f37e04981",
   "metadata": {},
   "source": [
    "<div style=\"direction: rtl; text-align: right; font-size: 25px\">\n",
    "    دیدن دسته‌ها و کدها\n",
    "</div>"
   ]
  },
  {
   "cell_type": "code",
   "execution_count": 545,
   "id": "a9d71eac-e68b-453a-aa6a-f79fbc943fff",
   "metadata": {},
   "outputs": [
    {
     "data": {
      "text/plain": [
       "Index(['a', 'b', 'c'], dtype='object')"
      ]
     },
     "execution_count": 545,
     "metadata": {},
     "output_type": "execute_result"
    }
   ],
   "source": [
    "cat = pd.Categorical([\"a\", \"b\", \"a\", \"c\"])\n",
    "cat.categories"
   ]
  },
  {
   "cell_type": "code",
   "execution_count": 546,
   "id": "53c724ec-564b-4c1e-86ca-f2ed4ba42192",
   "metadata": {},
   "outputs": [
    {
     "data": {
      "text/plain": [
       "array([0, 1, 0, 2], dtype=int8)"
      ]
     },
     "execution_count": 546,
     "metadata": {},
     "output_type": "execute_result"
    }
   ],
   "source": [
    "cat.codes"
   ]
  },
  {
   "cell_type": "markdown",
   "id": "1f65ccf6-81f0-4a86-a1ce-8253e4c17e8b",
   "metadata": {},
   "source": [
    "<div style=\"direction: rtl; text-align: right; font-size: 25px\">\n",
    "    تغییر دسته‌ها\n",
    "</div>"
   ]
  },
  {
   "cell_type": "code",
   "execution_count": 547,
   "id": "0b9d4f11-3dfb-44eb-9460-13b78110fc4c",
   "metadata": {},
   "outputs": [],
   "source": [
    "cat = cat.rename_categories({\"\": \"\", \"\": \"\", \"\":\"\"})"
   ]
  },
  {
   "cell_type": "markdown",
   "id": "3e169308-bd1a-46c0-8658-2cce1376ed93",
   "metadata": {},
   "source": [
    "<div style=\"direction: rtl; text-align: right; font-size: 25px\">\n",
    "     تغییر ترتیب دسته‌ها\n",
    "</div>"
   ]
  },
  {
   "cell_type": "code",
   "execution_count": 548,
   "id": "5fb0fd94-e9f5-4f87-aba5-baa784cffd48",
   "metadata": {},
   "outputs": [],
   "source": [
    "cat = cat.reorder_categories([\"a\", \"b\", \"c\"], ordered=True)"
   ]
  },
  {
   "cell_type": "markdown",
   "id": "b28e7fcf-3f5e-499b-b128-2a3d91d1782a",
   "metadata": {},
   "source": [
    "<div style=\"direction: rtl; text-align: right; font-size: 25px\">\n",
    "    اضافه یا حذف دسته‌ها\n",
    "</div>"
   ]
  },
  {
   "cell_type": "code",
   "execution_count": 549,
   "id": "0f60ff8b-e52b-4c4a-af95-467cfe49d052",
   "metadata": {},
   "outputs": [
    {
     "data": {
      "text/plain": [
       "['a', 'b', 'a', 'c']\n",
       "Categories (3, object): ['a' < 'b' < 'c']"
      ]
     },
     "execution_count": 549,
     "metadata": {},
     "output_type": "execute_result"
    }
   ],
   "source": [
    "cat.remove_unused_categories()"
   ]
  },
  {
   "cell_type": "code",
   "execution_count": 550,
   "id": "b389dd62-5a18-4987-b27f-304079a3cab4",
   "metadata": {},
   "outputs": [
    {
     "name": "stdout",
     "output_type": "stream",
     "text": [
      "['a', 'b', 'a', 'c']\n",
      "Categories (4, object): ['a' < 'b' < 'c' < 'g']\n"
     ]
    }
   ],
   "source": [
    "cat = cat.add_categories([\"g\"])\n",
    "print(cat)"
   ]
  },
  {
   "cell_type": "markdown",
   "id": "6395518e-9b77-4ad4-b275-9f74f4d0c2b6",
   "metadata": {},
   "source": [
    "<div style=\"direction: rtl; text-align: right; font-size: 20px\">\n",
    "    <br>\n",
    "    <br>\n",
    "    <br>\n",
    "💢 امیدوارم که این Notebook مفید بوده باشه و بتونه به شما در یادگیری Pandas کمک کنه.سعی کردم تمام نکات و بخش های مهم NumPy رو براتون یکجا جمع کنم تا راحت به یادگیری بپردازیم ;)\n",
    "    <br>\n",
    "اگر سوالی و نکته ای بود میتونید با من از طریق ایمیل و یا تلگرام در ارتباط باشید.رفیق شما ارسلانم.\n",
    "    <br>\n",
    "    <br>\n",
    "ما هنوز باور داریم به خدای رنگین کمان 💫🌈\n",
    "</div>"
   ]
  }
 ],
 "metadata": {
  "kernelspec": {
   "display_name": "Python 3 (ipykernel)",
   "language": "python",
   "name": "python3"
  },
  "language_info": {
   "codemirror_mode": {
    "name": "ipython",
    "version": 3
   },
   "file_extension": ".py",
   "mimetype": "text/x-python",
   "name": "python",
   "nbconvert_exporter": "python",
   "pygments_lexer": "ipython3",
   "version": "3.13.3"
  }
 },
 "nbformat": 4,
 "nbformat_minor": 5
}
